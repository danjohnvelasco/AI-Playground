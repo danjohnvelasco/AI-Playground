{
  "nbformat": 4,
  "nbformat_minor": 0,
  "metadata": {
    "colab": {
      "name": "Gradient Descent.ipynb",
      "provenance": [],
      "collapsed_sections": [],
      "authorship_tag": "ABX9TyOKCuwtN0TNyXd4rtjeFKXi",
      "include_colab_link": true
    },
    "kernelspec": {
      "name": "python3",
      "display_name": "Python 3"
    }
  },
  "cells": [
    {
      "cell_type": "markdown",
      "metadata": {
        "id": "view-in-github",
        "colab_type": "text"
      },
      "source": [
        "<a href=\"https://colab.research.google.com/github/danjohnvelasco/AI-Playground/blob/master/Gradient_Descent.ipynb\" target=\"_parent\"><img src=\"https://colab.research.google.com/assets/colab-badge.svg\" alt=\"Open In Colab\"/></a>"
      ]
    },
    {
      "cell_type": "markdown",
      "metadata": {
        "id": "2ESE6BPVn0fv",
        "colab_type": "text"
      },
      "source": [
        "# Gradient Descent (GD)\n",
        "\n",
        "In this notebook, I'll implement 2 versions of gradient descent from \"scratch\".  Namely, batch gradient descent and mini-batch stochastic gradient descent With quotes because it's not entirely from scratch because I'll use pytorch to calculate the gradients.\n",
        "\n",
        "In most cases, people refer to mini-batch stochastic GD as just stochastic gradient descent (SGD) and batch gardient descent as just GD.\n",
        "\n",
        "\n",
        "I'll also dig a little deeper into the code to see what's behind the pytorch functions that are used.\n",
        "\n",
        "Most of this stuff comes from lesson 2 of fastai v3 course.\n",
        "\n"
      ]
    },
    {
      "cell_type": "code",
      "metadata": {
        "id": "UkDceSmRlx62",
        "colab_type": "code",
        "colab": {}
      },
      "source": [
        "# Import dependencies\n",
        "from fastai.basics import *"
      ],
      "execution_count": null,
      "outputs": []
    },
    {
      "cell_type": "markdown",
      "metadata": {
        "id": "sL6xtymRpCU2",
        "colab_type": "text"
      },
      "source": [
        "## Setup the problem\n",
        "\n",
        "Problem: linear regression\n",
        "\n",
        "Description: The goal of linear regression is to fit a line to a set of points. By fit, it means to find a set of `coefficients or parameters or weights` that'll give the line with least errors (distance from a point in a line to the actual data point) on a set of points.\n",
        "\n",
        "\n",
        "Behind the functions:\n",
        "- torch.ones : returns a tensor filled with 1's. The size of a tensor is defined by the arguments which expects a sequence of numbers. torch.ones(10, 2) will return a 2D tensor with 10 rows x 2 columns tensor, torch.ones(10,2,3) will return  a 3D tensor.\n",
        "\n",
        "- torch.Tensor.uniform_ : fills tensor with numbers sampled from the continuous uniform distribution. (By default numbers range from 0 to 1)\n",
        "\n",
        "- tensor : creates PyTorch tensors. You can pass sequence of elements or lists. tensor(3,2) -> tensor([3,2]), tensor([3,2],[4,5]) -> tensor (2D)\n",
        "\n",
        "- torch.randn : returns a tensor filled with random numbers from a standard normal distribution (mean = 0, variance = 1).\n",
        "\n",
        "*In PyTorch, function names with '_' means the function happens inplace.\n",
        "\n"
      ]
    },
    {
      "cell_type": "code",
      "metadata": {
        "id": "RPbbCg56o-jd",
        "colab_type": "code",
        "colab": {}
      },
      "source": [
        "# number of points\n",
        "n=100"
      ],
      "execution_count": null,
      "outputs": []
    },
    {
      "cell_type": "code",
      "metadata": {
        "id": "ap44GCc-qEUN",
        "colab_type": "code",
        "colab": {
          "base_uri": "https://localhost:8080/",
          "height": 104
        },
        "outputId": "f74f83b9-03be-4239-e73b-e6c79cd517b1"
      },
      "source": [
        "x = torch.ones(n,2) # type: torch.Tensor\n",
        "x[:,0].uniform_(-1.,1) # apply uniform_ on 1st column\n",
        "x[:5]"
      ],
      "execution_count": null,
      "outputs": [
        {
          "output_type": "execute_result",
          "data": {
            "text/plain": [
              "tensor([[ 0.0690,  1.0000],\n",
              "        [-0.9442,  1.0000],\n",
              "        [ 0.5080,  1.0000],\n",
              "        [ 0.5446,  1.0000],\n",
              "        [-0.8811,  1.0000]])"
            ]
          },
          "metadata": {
            "tags": []
          },
          "execution_count": 34
        }
      ]
    },
    {
      "cell_type": "markdown",
      "metadata": {
        "id": "NCU47MIGwjGZ",
        "colab_type": "text"
      },
      "source": [
        "## Model/Architecture: y = ax + b\n",
        "\n",
        "`y = ax + b` can be represented in matrices.\n",
        "\n",
        "let vector `z = [a,1]`; a be any real number\n",
        "\n",
        "Do matrix multiplication then it becomes `y = a(x) + b(1) which is just y = ax + b`\n",
        "\n",
        "I want to find the parameter ```a``` such that it minimizes the error between the points in a line and `x@a` datapoints.\n",
        "\n",
        "For a regression problem, Mean Squared Error (MSE) is often used as a loss function.\n",
        "\n"
      ]
    },
    {
      "cell_type": "code",
      "metadata": {
        "id": "qjQaEo4cqKkg",
        "colab_type": "code",
        "colab": {
          "base_uri": "https://localhost:8080/",
          "height": 35
        },
        "outputId": "211b083a-8589-4bc6-bbd7-175f5460d8f5"
      },
      "source": [
        "# 3. means float\n",
        "# a is the parameters we're learning\n",
        "# The learned parameters should be close to this but we'll pretend that we \n",
        "# don't know the actual numbers\n",
        "a = tensor(3.,2)\n",
        "a"
      ],
      "execution_count": null,
      "outputs": [
        {
          "output_type": "execute_result",
          "data": {
            "text/plain": [
              "tensor([3., 2.])"
            ]
          },
          "metadata": {
            "tags": []
          },
          "execution_count": 35
        }
      ]
    },
    {
      "cell_type": "code",
      "metadata": {
        "id": "aT1ejpipws87",
        "colab_type": "code",
        "colab": {
          "base_uri": "https://localhost:8080/",
          "height": 265
        },
        "outputId": "e020b2bf-82c3-4ab9-cfa6-d78bfbdf54ef"
      },
      "source": [
        "# See what our dataset looks like\n",
        "y = x@a # matrix multiplication\n",
        "plt.scatter(x[:,0], y);"
      ],
      "execution_count": null,
      "outputs": [
        {
          "output_type": "display_data",
          "data": {
            "image/png": "[encoded data removed]",
            "text/plain": [
              "<Figure size 432x288 with 1 Axes>"
            ]
          },
          "metadata": {
            "tags": [],
            "needs_background": "light"
          }
        }
      ]
    },
    {
      "cell_type": "code",
      "metadata": {
        "id": "dk6cKGZMvrnI",
        "colab_type": "code",
        "colab": {
          "base_uri": "https://localhost:8080/",
          "height": 265
        },
        "outputId": "43ab8083-932d-4739-af96-69bf790487c8"
      },
      "source": [
        "# Add noise\n",
        "y = x@a + 0.25*torch.randn(n) # random numbers\n",
        "plt.scatter(x[:,0], y);"
      ],
      "execution_count": null,
      "outputs": [
        {
          "output_type": "display_data",
          "data": {
            "image/png": "[encoded data removed]",
            "text/plain": [
              "<Figure size 432x288 with 1 Axes>"
            ]
          },
          "metadata": {
            "tags": [],
            "needs_background": "light"
          }
        }
      ]
    },
    {
      "cell_type": "code",
      "metadata": {
        "id": "sdG1MFD6w8lu",
        "colab_type": "code",
        "colab": {}
      },
      "source": [
        "# loss function\n",
        "def mse(y_hat, y): return ((y_hat-y)**2).mean()"
      ],
      "execution_count": null,
      "outputs": []
    },
    {
      "cell_type": "markdown",
      "metadata": {
        "id": "zp74is-u_T13",
        "colab_type": "text"
      },
      "source": [
        "Suppose we believe `a = (-1.0,1.0)` then we can compute `y_hat` which is our *prediction* and then compute our error."
      ]
    },
    {
      "cell_type": "code",
      "metadata": {
        "id": "qbITiZcr_SwN",
        "colab_type": "code",
        "colab": {}
      },
      "source": [
        "a = tensor(-1.,1)\n",
        "y_hat = x@a"
      ],
      "execution_count": null,
      "outputs": []
    },
    {
      "cell_type": "code",
      "metadata": {
        "id": "B-i74FE5FT6o",
        "colab_type": "code",
        "colab": {}
      },
      "source": [
        "y_hat = x@a"
      ],
      "execution_count": null,
      "outputs": []
    },
    {
      "cell_type": "code",
      "metadata": {
        "id": "3DCPIXQb_eiz",
        "colab_type": "code",
        "colab": {
          "base_uri": "https://localhost:8080/",
          "height": 35
        },
        "outputId": "9bc98409-54e9-4b37-a6b6-7adb2bc5587d"
      },
      "source": [
        "# We're far\n",
        "mse(y_hat,y)"
      ],
      "execution_count": null,
      "outputs": [
        {
          "output_type": "execute_result",
          "data": {
            "text/plain": [
              "tensor(5.7643)"
            ]
          },
          "metadata": {
            "tags": []
          },
          "execution_count": 41
        }
      ]
    },
    {
      "cell_type": "code",
      "metadata": {
        "id": "bYB0u9Uq_mMZ",
        "colab_type": "code",
        "colab": {
          "base_uri": "https://localhost:8080/",
          "height": 265
        },
        "outputId": "6ea60194-873a-4468-8797-c6897c500b1d"
      },
      "source": [
        "# Not surprisingly, the orange line looks like that because the slope is -1.\n",
        "# This tells us that the parameter 'a' or the slop is not what we want.\n",
        "# It'll be tedious to go bruteforce so we'll use gradient descent.\n",
        "plt.scatter(x[:,0],y)\n",
        "plt.scatter(x[:,0],y_hat);"
      ],
      "execution_count": null,
      "outputs": [
        {
          "output_type": "display_data",
          "data": {
            "image/png": "[encoded data removed]",
            "text/plain": [
              "<Figure size 432x288 with 1 Axes>"
            ]
          },
          "metadata": {
            "tags": [],
            "needs_background": "light"
          }
        }
      ]
    },
    {
      "cell_type": "markdown",
      "metadata": {
        "id": "oKwneowpCKkF",
        "colab_type": "text"
      },
      "source": [
        "## Optimizing parameter 'a' or slope to find the best line that fits our dataset\n",
        "\n",
        "---\n",
        "\n",
        "**Optimizer**: Gradient Descent (GD)\n",
        "\n",
        "\n",
        "**Description**: Given a loss function defined by a set of parameters, GD starts with an initial set of parameters and iteratively moves towards the set of parameters that minimizes the loss function. The iterative minimization is achieved by taking steps in the negative direction of the gradient/slope of the function.\n",
        "\n",
        "[Click here for more info on loss.backward()](https://towardsdatascience.com/pytorch-autograd-understanding-the-heart-of-pytorchs-magic-2686cd94ec95)\n",
        "\n"
      ]
    },
    {
      "cell_type": "code",
      "metadata": {
        "id": "NRTrnK8NFgRc",
        "colab_type": "code",
        "colab": {
          "base_uri": "https://localhost:8080/",
          "height": 52
        },
        "outputId": "5f8a9af1-e8db-4783-defc-41c364d9bbef"
      },
      "source": [
        "# Convert regular tensor object to a kind of\n",
        "# tensor that is considered as a module/model parameter\n",
        "# which is required by PyTorch for it to compute gradients\n",
        "a = nn.Parameter(tensor(-1.,1.)); a"
      ],
      "execution_count": null,
      "outputs": [
        {
          "output_type": "execute_result",
          "data": {
            "text/plain": [
              "Parameter containing:\n",
              "tensor([-1.,  1.], requires_grad=True)"
            ]
          },
          "metadata": {
            "tags": []
          },
          "execution_count": 43
        }
      ]
    },
    {
      "cell_type": "code",
      "metadata": {
        "id": "tyjtrU0T_ts7",
        "colab_type": "code",
        "colab": {}
      },
      "source": [
        "def update(n):\n",
        "    '''updates vector a'''\n",
        "    losses = [] # tracks losses history\n",
        "    for i in range(n):\n",
        "        y_hat = x@a\n",
        "        loss = mse(y_hat, y) # y_hat -> predictions, y -> actual value\n",
        "        losses.append(loss)\n",
        "\n",
        "        if i % 10 == 0: \n",
        "            print(loss) # just prints stuff, DOESN'T AFFECT THE ALGO\n",
        "            \n",
        "        loss.backward() # computes gradient of current tensor wrt to graph leaves (need to dig into this)\n",
        "\n",
        "        with torch.no_grad():\n",
        "            a.sub_(lr * a.grad) # subtracts learning rate * gradient to the parameters (inplace)\n",
        "            a.grad.zero_() # reset grad to zero because torch accumulates grad.. you don't want to reuse it\n",
        "    \n",
        "    plt.plot(list(range(0,len(losses))), losses)"
      ],
      "execution_count": null,
      "outputs": []
    },
    {
      "cell_type": "code",
      "metadata": {
        "id": "pveHIrJGaUvD",
        "colab_type": "code",
        "colab": {}
      },
      "source": [
        "y_hat = x@a\n",
        "loss = mse(y_hat, y) # y_hat -> predictions, y -> actual value\n"
      ],
      "execution_count": null,
      "outputs": []
    },
    {
      "cell_type": "code",
      "metadata": {
        "id": "yEKl1ubGETWo",
        "colab_type": "code",
        "colab": {
          "base_uri": "https://localhost:8080/",
          "height": 441
        },
        "outputId": "e15ec225-c82e-4c89-cf13-e81bf0455631"
      },
      "source": [
        "# Test run\n",
        "lr = 1e-1\n",
        "update(100)"
      ],
      "execution_count": null,
      "outputs": [
        {
          "output_type": "stream",
          "text": [
            "tensor(5.7643, grad_fn=<MeanBackward0>)\n",
            "tensor(1.4537, grad_fn=<MeanBackward0>)\n",
            "tensor(0.4189, grad_fn=<MeanBackward0>)\n",
            "tensor(0.1494, grad_fn=<MeanBackward0>)\n",
            "tensor(0.0789, grad_fn=<MeanBackward0>)\n",
            "tensor(0.0605, grad_fn=<MeanBackward0>)\n",
            "tensor(0.0557, grad_fn=<MeanBackward0>)\n",
            "tensor(0.0544, grad_fn=<MeanBackward0>)\n",
            "tensor(0.0541, grad_fn=<MeanBackward0>)\n",
            "tensor(0.0540, grad_fn=<MeanBackward0>)\n"
          ],
          "name": "stdout"
        },
        {
          "output_type": "display_data",
          "data": {
            "image/png": "[encoded data removed]",
            "text/plain": [
              "<Figure size 432x288 with 1 Axes>"
            ]
          },
          "metadata": {
            "tags": [],
            "needs_background": "light"
          }
        }
      ]
    },
    {
      "cell_type": "code",
      "metadata": {
        "id": "lrdNDH04Eihh",
        "colab_type": "code",
        "colab": {
          "base_uri": "https://localhost:8080/",
          "height": 52
        },
        "outputId": "7e354ddb-f0f9-4792-952a-52e51d8cf3ef"
      },
      "source": [
        "# This are the learned parameters\n",
        "# slope = 3.05\n",
        "# intercept or b = 1.97\n",
        "a"
      ],
      "execution_count": null,
      "outputs": [
        {
          "output_type": "execute_result",
          "data": {
            "text/plain": [
              "Parameter containing:\n",
              "tensor([2.9743, 1.9952], requires_grad=True)"
            ]
          },
          "metadata": {
            "tags": []
          },
          "execution_count": 47
        }
      ]
    },
    {
      "cell_type": "code",
      "metadata": {
        "id": "jroBCcnKGbDO",
        "colab_type": "code",
        "colab": {
          "base_uri": "https://localhost:8080/",
          "height": 300
        },
        "outputId": "5a4b30a6-c338-47c4-89b3-7c484b3c80ce"
      },
      "source": [
        "# Here's what we have\n",
        "\n",
        "plt.scatter(x[:,0],y) # Original dataset\n",
        "plt.scatter(x[:,0],x@a.detach()); # Learned line\n",
        "\n",
        "\"\"\"\n",
        "SIDENOTE\n",
        "x@a.detach() we need to detach so we can use it as numpy\n",
        "This happens because a is an nn.Parameter, which has required_grad = True\n",
        "Before you can use it somewhere else, you must detach().\n",
        "\"\"\""
      ],
      "execution_count": null,
      "outputs": [
        {
          "output_type": "execute_result",
          "data": {
            "application/vnd.google.colaboratory.intrinsic+json": {
              "type": "string"
            },
            "text/plain": [
              "'\\nSIDENOTE\\nx@a.detach() we need to detach so we can use it as numpy\\nThis happens because a is an nn.Parameter, which has required_grad = True\\nBefore you can use it somewhere else, you must detach().\\n'"
            ]
          },
          "metadata": {
            "tags": []
          },
          "execution_count": 48
        },
        {
          "output_type": "display_data",
          "data": {
            "image/png": "[encoded data removed]",
            "text/plain": [
              "<Figure size 432x288 with 1 Axes>"
            ]
          },
          "metadata": {
            "tags": [],
            "needs_background": "light"
          }
        }
      ]
    },
    {
      "cell_type": "markdown",
      "metadata": {
        "id": "v_H5DHJaJJ3j",
        "colab_type": "text"
      },
      "source": [
        "## Animation\n",
        "\n",
        "Copy pasted code from lesson 2 notebook of fastai course."
      ]
    },
    {
      "cell_type": "code",
      "metadata": {
        "id": "hw2ddaH_JJEs",
        "colab_type": "code",
        "colab": {}
      },
      "source": [
        "from matplotlib import animation, rc\n",
        "rc('animation', html='jshtml') #jshtml for colab"
      ],
      "execution_count": null,
      "outputs": []
    },
    {
      "cell_type": "code",
      "metadata": {
        "id": "J3nrAwexJHYU",
        "colab_type": "code",
        "colab": {
          "base_uri": "https://localhost:8080/",
          "height": 396
        },
        "outputId": "f6489b52-15ea-4f8c-ecd5-803e8a5a143a"
      },
      "source": [
        "a = nn.Parameter(tensor(-1.,1)) # arbitrary starting point\n",
        "\n",
        "fig = plt.figure()\n",
        "plt.scatter(x[:,0], y, c='orange')\n",
        "line, = plt.plot(x[:,0], x@a.detach())\n",
        "plt.close()\n",
        "\n",
        "def animate(i):\n",
        "    update()\n",
        "    line.set_ydata(x@a.detach()) # .detach detaches from the current graph\n",
        "    return line,\n",
        "\n",
        "animation.FuncAnimation(fig, animate, np.arange(0, 100), interval=100)"
      ],
      "execution_count": null,
      "outputs": [
        {
          "output_type": "error",
          "ename": "TypeError",
          "evalue": "ignored",
          "traceback": [
            "\u001b[0;31m---------------------------------------------------------------------------\u001b[0m",
            "\u001b[0;31mTypeError\u001b[0m                                 Traceback (most recent call last)",
            "\u001b[0;32m/usr/local/lib/python3.6/dist-packages/IPython/core/formatters.py\u001b[0m in \u001b[0;36m__call__\u001b[0;34m(self, obj)\u001b[0m\n\u001b[1;32m    336\u001b[0m             \u001b[0mmethod\u001b[0m \u001b[0;34m=\u001b[0m \u001b[0mget_real_method\u001b[0m\u001b[0;34m(\u001b[0m\u001b[0mobj\u001b[0m\u001b[0;34m,\u001b[0m \u001b[0mself\u001b[0m\u001b[0;34m.\u001b[0m\u001b[0mprint_method\u001b[0m\u001b[0;34m)\u001b[0m\u001b[0;34m\u001b[0m\u001b[0;34m\u001b[0m\u001b[0m\n\u001b[1;32m    337\u001b[0m             \u001b[0;32mif\u001b[0m \u001b[0mmethod\u001b[0m \u001b[0;32mis\u001b[0m \u001b[0;32mnot\u001b[0m \u001b[0;32mNone\u001b[0m\u001b[0;34m:\u001b[0m\u001b[0;34m\u001b[0m\u001b[0;34m\u001b[0m\u001b[0m\n\u001b[0;32m--> 338\u001b[0;31m                 \u001b[0;32mreturn\u001b[0m \u001b[0mmethod\u001b[0m\u001b[0;34m(\u001b[0m\u001b[0;34m)\u001b[0m\u001b[0;34m\u001b[0m\u001b[0;34m\u001b[0m\u001b[0m\n\u001b[0m\u001b[1;32m    339\u001b[0m             \u001b[0;32mreturn\u001b[0m \u001b[0;32mNone\u001b[0m\u001b[0;34m\u001b[0m\u001b[0;34m\u001b[0m\u001b[0m\n\u001b[1;32m    340\u001b[0m         \u001b[0;32melse\u001b[0m\u001b[0;34m:\u001b[0m\u001b[0;34m\u001b[0m\u001b[0;34m\u001b[0m\u001b[0m\n",
            "\u001b[0;32m/usr/local/lib/python3.6/dist-packages/matplotlib/animation.py\u001b[0m in \u001b[0;36m_repr_html_\u001b[0;34m(self)\u001b[0m\n\u001b[1;32m   1391\u001b[0m             \u001b[0;32mreturn\u001b[0m \u001b[0mself\u001b[0m\u001b[0;34m.\u001b[0m\u001b[0mto_html5_video\u001b[0m\u001b[0;34m(\u001b[0m\u001b[0;34m)\u001b[0m\u001b[0;34m\u001b[0m\u001b[0;34m\u001b[0m\u001b[0m\n\u001b[1;32m   1392\u001b[0m         \u001b[0;32melif\u001b[0m \u001b[0mfmt\u001b[0m \u001b[0;34m==\u001b[0m \u001b[0;34m'jshtml'\u001b[0m\u001b[0;34m:\u001b[0m\u001b[0;34m\u001b[0m\u001b[0;34m\u001b[0m\u001b[0m\n\u001b[0;32m-> 1393\u001b[0;31m             \u001b[0;32mreturn\u001b[0m \u001b[0mself\u001b[0m\u001b[0;34m.\u001b[0m\u001b[0mto_jshtml\u001b[0m\u001b[0;34m(\u001b[0m\u001b[0;34m)\u001b[0m\u001b[0;34m\u001b[0m\u001b[0;34m\u001b[0m\u001b[0m\n\u001b[0m\u001b[1;32m   1394\u001b[0m \u001b[0;34m\u001b[0m\u001b[0m\n\u001b[1;32m   1395\u001b[0m \u001b[0;34m\u001b[0m\u001b[0m\n",
            "\u001b[0;32m/usr/local/lib/python3.6/dist-packages/matplotlib/animation.py\u001b[0m in \u001b[0;36mto_jshtml\u001b[0;34m(self, fps, embed_frames, default_mode)\u001b[0m\n\u001b[1;32m   1380\u001b[0m                                     \u001b[0membed_frames\u001b[0m\u001b[0;34m=\u001b[0m\u001b[0membed_frames\u001b[0m\u001b[0;34m,\u001b[0m\u001b[0;34m\u001b[0m\u001b[0;34m\u001b[0m\u001b[0m\n\u001b[1;32m   1381\u001b[0m                                     default_mode=default_mode)\n\u001b[0;32m-> 1382\u001b[0;31m                 \u001b[0mself\u001b[0m\u001b[0;34m.\u001b[0m\u001b[0msave\u001b[0m\u001b[0;34m(\u001b[0m\u001b[0mstr\u001b[0m\u001b[0;34m(\u001b[0m\u001b[0mpath\u001b[0m\u001b[0;34m)\u001b[0m\u001b[0;34m,\u001b[0m \u001b[0mwriter\u001b[0m\u001b[0;34m=\u001b[0m\u001b[0mwriter\u001b[0m\u001b[0;34m)\u001b[0m\u001b[0;34m\u001b[0m\u001b[0;34m\u001b[0m\u001b[0m\n\u001b[0m\u001b[1;32m   1383\u001b[0m                 \u001b[0mself\u001b[0m\u001b[0;34m.\u001b[0m\u001b[0m_html_representation\u001b[0m \u001b[0;34m=\u001b[0m \u001b[0mpath\u001b[0m\u001b[0;34m.\u001b[0m\u001b[0mread_text\u001b[0m\u001b[0;34m(\u001b[0m\u001b[0;34m)\u001b[0m\u001b[0;34m\u001b[0m\u001b[0;34m\u001b[0m\u001b[0m\n\u001b[1;32m   1384\u001b[0m \u001b[0;34m\u001b[0m\u001b[0m\n",
            "\u001b[0;32m/usr/local/lib/python3.6/dist-packages/matplotlib/animation.py\u001b[0m in \u001b[0;36msave\u001b[0;34m(self, filename, writer, fps, dpi, codec, bitrate, extra_args, metadata, extra_anim, savefig_kwargs, progress_callback)\u001b[0m\n\u001b[1;32m   1133\u001b[0m                 \u001b[0;32mfor\u001b[0m \u001b[0manim\u001b[0m \u001b[0;32min\u001b[0m \u001b[0mall_anim\u001b[0m\u001b[0;34m:\u001b[0m\u001b[0;34m\u001b[0m\u001b[0;34m\u001b[0m\u001b[0m\n\u001b[1;32m   1134\u001b[0m                     \u001b[0;31m# Clear the initial frame\u001b[0m\u001b[0;34m\u001b[0m\u001b[0;34m\u001b[0m\u001b[0;34m\u001b[0m\u001b[0m\n\u001b[0;32m-> 1135\u001b[0;31m                     \u001b[0manim\u001b[0m\u001b[0;34m.\u001b[0m\u001b[0m_init_draw\u001b[0m\u001b[0;34m(\u001b[0m\u001b[0;34m)\u001b[0m\u001b[0;34m\u001b[0m\u001b[0;34m\u001b[0m\u001b[0m\n\u001b[0m\u001b[1;32m   1136\u001b[0m                 \u001b[0mframe_number\u001b[0m \u001b[0;34m=\u001b[0m \u001b[0;36m0\u001b[0m\u001b[0;34m\u001b[0m\u001b[0;34m\u001b[0m\u001b[0m\n\u001b[1;32m   1137\u001b[0m                 \u001b[0;31m# TODO: Currently only FuncAnimation has a save_count\u001b[0m\u001b[0;34m\u001b[0m\u001b[0;34m\u001b[0m\u001b[0;34m\u001b[0m\u001b[0m\n",
            "\u001b[0;32m/usr/local/lib/python3.6/dist-packages/matplotlib/animation.py\u001b[0m in \u001b[0;36m_init_draw\u001b[0;34m(self)\u001b[0m\n\u001b[1;32m   1741\u001b[0m         \u001b[0;31m# artists.\u001b[0m\u001b[0;34m\u001b[0m\u001b[0;34m\u001b[0m\u001b[0;34m\u001b[0m\u001b[0m\n\u001b[1;32m   1742\u001b[0m         \u001b[0;32mif\u001b[0m \u001b[0mself\u001b[0m\u001b[0;34m.\u001b[0m\u001b[0m_init_func\u001b[0m \u001b[0;32mis\u001b[0m \u001b[0;32mNone\u001b[0m\u001b[0;34m:\u001b[0m\u001b[0;34m\u001b[0m\u001b[0;34m\u001b[0m\u001b[0m\n\u001b[0;32m-> 1743\u001b[0;31m             \u001b[0mself\u001b[0m\u001b[0;34m.\u001b[0m\u001b[0m_draw_frame\u001b[0m\u001b[0;34m(\u001b[0m\u001b[0mnext\u001b[0m\u001b[0;34m(\u001b[0m\u001b[0mself\u001b[0m\u001b[0;34m.\u001b[0m\u001b[0mnew_frame_seq\u001b[0m\u001b[0;34m(\u001b[0m\u001b[0;34m)\u001b[0m\u001b[0;34m)\u001b[0m\u001b[0;34m)\u001b[0m\u001b[0;34m\u001b[0m\u001b[0;34m\u001b[0m\u001b[0m\n\u001b[0m\u001b[1;32m   1744\u001b[0m \u001b[0;34m\u001b[0m\u001b[0m\n\u001b[1;32m   1745\u001b[0m         \u001b[0;32melse\u001b[0m\u001b[0;34m:\u001b[0m\u001b[0;34m\u001b[0m\u001b[0;34m\u001b[0m\u001b[0m\n",
            "\u001b[0;32m/usr/local/lib/python3.6/dist-packages/matplotlib/animation.py\u001b[0m in \u001b[0;36m_draw_frame\u001b[0;34m(self, framedata)\u001b[0m\n\u001b[1;32m   1764\u001b[0m         \u001b[0;31m# Call the func with framedata and args. If blitting is desired,\u001b[0m\u001b[0;34m\u001b[0m\u001b[0;34m\u001b[0m\u001b[0;34m\u001b[0m\u001b[0m\n\u001b[1;32m   1765\u001b[0m         \u001b[0;31m# func needs to return a sequence of any artists that were modified.\u001b[0m\u001b[0;34m\u001b[0m\u001b[0;34m\u001b[0m\u001b[0;34m\u001b[0m\u001b[0m\n\u001b[0;32m-> 1766\u001b[0;31m         \u001b[0mself\u001b[0m\u001b[0;34m.\u001b[0m\u001b[0m_drawn_artists\u001b[0m \u001b[0;34m=\u001b[0m \u001b[0mself\u001b[0m\u001b[0;34m.\u001b[0m\u001b[0m_func\u001b[0m\u001b[0;34m(\u001b[0m\u001b[0mframedata\u001b[0m\u001b[0;34m,\u001b[0m \u001b[0;34m*\u001b[0m\u001b[0mself\u001b[0m\u001b[0;34m.\u001b[0m\u001b[0m_args\u001b[0m\u001b[0;34m)\u001b[0m\u001b[0;34m\u001b[0m\u001b[0;34m\u001b[0m\u001b[0m\n\u001b[0m\u001b[1;32m   1767\u001b[0m         \u001b[0;32mif\u001b[0m \u001b[0mself\u001b[0m\u001b[0;34m.\u001b[0m\u001b[0m_blit\u001b[0m\u001b[0;34m:\u001b[0m\u001b[0;34m\u001b[0m\u001b[0;34m\u001b[0m\u001b[0m\n\u001b[1;32m   1768\u001b[0m             \u001b[0;32mif\u001b[0m \u001b[0mself\u001b[0m\u001b[0;34m.\u001b[0m\u001b[0m_drawn_artists\u001b[0m \u001b[0;32mis\u001b[0m \u001b[0;32mNone\u001b[0m\u001b[0;34m:\u001b[0m\u001b[0;34m\u001b[0m\u001b[0;34m\u001b[0m\u001b[0m\n",
            "\u001b[0;32m<ipython-input-50-0afee703fa23>\u001b[0m in \u001b[0;36manimate\u001b[0;34m(i)\u001b[0m\n\u001b[1;32m      7\u001b[0m \u001b[0;34m\u001b[0m\u001b[0m\n\u001b[1;32m      8\u001b[0m \u001b[0;32mdef\u001b[0m \u001b[0manimate\u001b[0m\u001b[0;34m(\u001b[0m\u001b[0mi\u001b[0m\u001b[0;34m)\u001b[0m\u001b[0;34m:\u001b[0m\u001b[0;34m\u001b[0m\u001b[0;34m\u001b[0m\u001b[0m\n\u001b[0;32m----> 9\u001b[0;31m     \u001b[0mupdate\u001b[0m\u001b[0;34m(\u001b[0m\u001b[0;34m)\u001b[0m\u001b[0;34m\u001b[0m\u001b[0;34m\u001b[0m\u001b[0m\n\u001b[0m\u001b[1;32m     10\u001b[0m     \u001b[0mline\u001b[0m\u001b[0;34m.\u001b[0m\u001b[0mset_ydata\u001b[0m\u001b[0;34m(\u001b[0m\u001b[0mx\u001b[0m\u001b[0;34m@\u001b[0m\u001b[0ma\u001b[0m\u001b[0;34m.\u001b[0m\u001b[0mdetach\u001b[0m\u001b[0;34m(\u001b[0m\u001b[0;34m)\u001b[0m\u001b[0;34m)\u001b[0m \u001b[0;31m# .detach detaches from the current graph\u001b[0m\u001b[0;34m\u001b[0m\u001b[0;34m\u001b[0m\u001b[0m\n\u001b[1;32m     11\u001b[0m     \u001b[0;32mreturn\u001b[0m \u001b[0mline\u001b[0m\u001b[0;34m,\u001b[0m\u001b[0;34m\u001b[0m\u001b[0;34m\u001b[0m\u001b[0m\n",
            "\u001b[0;31mTypeError\u001b[0m: update() missing 1 required positional argument: 'n'"
          ]
        },
        {
          "output_type": "execute_result",
          "data": {
            "text/plain": [
              "<matplotlib.animation.FuncAnimation at 0x7f1b16bf8cf8>"
            ]
          },
          "metadata": {
            "tags": []
          },
          "execution_count": 50
        }
      ]
    },
    {
      "cell_type": "markdown",
      "metadata": {
        "id": "py1GfP3qIXhQ",
        "colab_type": "text"
      },
      "source": [
        "This is \"batch\" gradient descent because it calculates the loss from the whole dataset at once and then get the gradients from there..\n",
        "\n",
        "Normally, we don't do that. We use **Mini-batch Gradient Descent** which calculates the loss on a `mini-batch` and then get the gradient from there.\n",
        "\n",
        "It's a combination of Batch GD and Stochastic GD (calculates gradient for one row at a time)."
      ]
    },
    {
      "cell_type": "markdown",
      "metadata": {
        "id": "Sx_vT-ILJj13",
        "colab_type": "text"
      },
      "source": [
        "# Mini-batch Gradient Descent\n",
        "\n",
        "The tweak is straightforward, you feed your data in the neural network in mini-batches, making sure that you randomly sample data without replacement to achieve an epoch (one pass of seeing ALL data points)\n",
        "\n",
        "`In sampling without replacement, each sample unit of the population has only one chance to be selected in the sample.`"
      ]
    },
    {
      "cell_type": "code",
      "metadata": {
        "id": "4PPD4bWjJins",
        "colab_type": "code",
        "colab": {}
      },
      "source": [
        "def gradient_descent(bs, epochs):\n",
        "    '''\n",
        "        updates vector 'a' using mini-batches to calculate gradients\n",
        "        bs (int) -> batch size\n",
        "        epochs (int)\n",
        "    '''\n",
        "    losses = [] # for tracking losses\n",
        "    for epoch in range(epochs):\n",
        "        mini_batches = []\n",
        "        batch_idx = []\n",
        "\n",
        "        '''randomize data by shuffling data once and then slice sequentially'''\n",
        "        rand_idx = torch.randperm(x.shape[0])\n",
        "        shuffled_data = x[rand_idx]\n",
        "        for k in range(0, x.shape[0], bs):\n",
        "            mini_batches.append(shuffled_data[k:k+bs])\n",
        "            batch_idx.append(rand_idx[k:k+bs])\n",
        "\n",
        "        '''update gradients by mini-batches'''\n",
        "        for i in range(len(mini_batches)):\n",
        "            y_hat = mini_batches[i]@a\n",
        "            y_batch = y[batch_idx[i]]\n",
        "            loss = mse(y_hat, y_batch) # y_hat -> predictions, y -> actual value\n",
        "            losses.append(loss) # track loss\n",
        "\n",
        "            if i % 10 == 0: \n",
        "                print(loss) # just prints stuff, DOESN'T AFFECT THE ALGO\n",
        "                \n",
        "\n",
        "            loss.backward() # computes gradient of current tensor wrt to graph leaves (need to dig into this)\n",
        "            with torch.no_grad():\n",
        "                a.sub_(lr * a.grad) # subtracts learning rate * gradient to the parameters (inplace)\n",
        "                a.grad.zero_() # reset grad to zero because torch accumulates grad.. you don't want to reuse it\n",
        "\n",
        "    plt.plot(list(range(0,len(losses))), losses)"
      ],
      "execution_count": null,
      "outputs": []
    },
    {
      "cell_type": "code",
      "metadata": {
        "id": "2Gg0BLJZJb4Y",
        "colab_type": "code",
        "colab": {
          "base_uri": "https://localhost:8080/",
          "height": 558
        },
        "outputId": "b895647a-1255-4f87-9a32-f592d19cf1d4"
      },
      "source": [
        "# Achieved optimal solution in 15 epochs BUT updated data 15 * 4 times.\n",
        "# Noisy din ang loss niya\n",
        "\n",
        "lr = 1e-1\n",
        "a = nn.Parameter(tensor(-1.,1));\n",
        "%time gradient_descent(bs=32, epochs=15)"
      ],
      "execution_count": null,
      "outputs": [
        {
          "output_type": "stream",
          "text": [
            "tensor(6.3575, grad_fn=<MeanBackward0>)\n",
            "tensor(3.3016, grad_fn=<MeanBackward0>)\n",
            "tensor(1.6430, grad_fn=<MeanBackward0>)\n",
            "tensor(1.3176, grad_fn=<MeanBackward0>)\n",
            "tensor(0.4864, grad_fn=<MeanBackward0>)\n",
            "tensor(0.4010, grad_fn=<MeanBackward0>)\n",
            "tensor(0.2445, grad_fn=<MeanBackward0>)\n",
            "tensor(0.1580, grad_fn=<MeanBackward0>)\n",
            "tensor(0.0695, grad_fn=<MeanBackward0>)\n",
            "tensor(0.0902, grad_fn=<MeanBackward0>)\n",
            "tensor(0.0636, grad_fn=<MeanBackward0>)\n",
            "tensor(0.0751, grad_fn=<MeanBackward0>)\n",
            "tensor(0.0421, grad_fn=<MeanBackward0>)\n",
            "tensor(0.0654, grad_fn=<MeanBackward0>)\n",
            "tensor(0.0656, grad_fn=<MeanBackward0>)\n",
            "CPU times: user 39.9 ms, sys: 1.16 ms, total: 41 ms\n",
            "Wall time: 39.4 ms\n"
          ],
          "name": "stdout"
        },
        {
          "output_type": "display_data",
          "data": {
            "image/png": "[encoded data removed]",
            "text/plain": [
              "<Figure size 432x288 with 1 Axes>"
            ]
          },
          "metadata": {
            "tags": [],
            "needs_background": "light"
          }
        }
      ]
    },
    {
      "cell_type": "code",
      "metadata": {
        "id": "R7qziouXJf-s",
        "colab_type": "code",
        "colab": {
          "base_uri": "https://localhost:8080/",
          "height": 265
        },
        "outputId": "7b25e0c3-8445-43d6-eb76-43b06c56c02a"
      },
      "source": [
        "plt.scatter(x[:,0],y) # Original dataset\n",
        "plt.scatter(x[:,0],x@a.detach()); # Learned line"
      ],
      "execution_count": null,
      "outputs": [
        {
          "output_type": "display_data",
          "data": {
            "image/png": "[encoded data removed]",
            "text/plain": [
              "<Figure size 432x288 with 1 Axes>"
            ]
          },
          "metadata": {
            "tags": [],
            "needs_background": "light"
          }
        }
      ]
    },
    {
      "cell_type": "code",
      "metadata": {
        "id": "iJP5eM4VR7cz",
        "colab_type": "code",
        "colab": {
          "base_uri": "https://localhost:8080/",
          "height": 406
        },
        "outputId": "346e9ff3-9b2a-4043-fcca-19297b18c6b3"
      },
      "source": [
        "# Demo Batch GD (60 weight updates using whole dataset) for comparison \n",
        "# Smoother loss\n",
        "lr = 1e-1\n",
        "a = nn.Parameter(tensor(-1.,1));\n",
        "%time update(60)"
      ],
      "execution_count": null,
      "outputs": [
        {
          "output_type": "stream",
          "text": [
            "tensor(5.7643, grad_fn=<MeanBackward0>)\n",
            "tensor(1.4537, grad_fn=<MeanBackward0>)\n",
            "tensor(0.4189, grad_fn=<MeanBackward0>)\n",
            "tensor(0.1494, grad_fn=<MeanBackward0>)\n",
            "tensor(0.0789, grad_fn=<MeanBackward0>)\n",
            "tensor(0.0605, grad_fn=<MeanBackward0>)\n",
            "CPU times: user 29 ms, sys: 1.62 ms, total: 30.7 ms\n",
            "Wall time: 30.7 ms\n"
          ],
          "name": "stdout"
        },
        {
          "output_type": "display_data",
          "data": {
            "image/png": "[encoded data removed]",
            "text/plain": [
              "<Figure size 432x288 with 1 Axes>"
            ]
          },
          "metadata": {
            "tags": [],
            "needs_background": "light"
          }
        }
      ]
    },
    {
      "cell_type": "code",
      "metadata": {
        "id": "cB9flJmqSBAl",
        "colab_type": "code",
        "colab": {
          "base_uri": "https://localhost:8080/",
          "height": 265
        },
        "outputId": "d41749ba-7c3a-461d-9361-72630166fa29"
      },
      "source": [
        "plt.scatter(x[:,0],y) # Original dataset\n",
        "plt.scatter(x[:,0],x@a.detach()); # Learned line"
      ],
      "execution_count": null,
      "outputs": [
        {
          "output_type": "display_data",
          "data": {
            "image/png": "[encoded data removed]",
            "text/plain": [
              "<Figure size 432x288 with 1 Axes>"
            ]
          },
          "metadata": {
            "tags": [],
            "needs_background": "light"
          }
        }
      ]
    },
    {
      "cell_type": "code",
      "metadata": {
        "id": "zMmet9IPH-4C",
        "colab_type": "code",
        "colab": {
          "base_uri": "https://localhost:8080/",
          "height": 69
        },
        "outputId": "d9d57026-c763-48cf-f5c6-b417aeb57d80"
      },
      "source": [
        "# Demo of random shuffling\n",
        "w = tensor([3,2],[4,5], [0,9])\n",
        "w_rnd_idx = torch.randperm(w.shape[0])\n",
        "w[w_rnd_idx]"
      ],
      "execution_count": null,
      "outputs": [
        {
          "output_type": "execute_result",
          "data": {
            "text/plain": [
              "tensor([[3, 2],\n",
              "        [0, 9],\n",
              "        [4, 5]])"
            ]
          },
          "metadata": {
            "tags": []
          },
          "execution_count": 56
        }
      ]
    },
    {
      "cell_type": "code",
      "metadata": {
        "id": "vlYWYCAQK6K4",
        "colab_type": "code",
        "colab": {
          "base_uri": "https://localhost:8080/",
          "height": 138
        },
        "outputId": "25f9dd11-584a-466a-9de2-74f751f73cee"
      },
      "source": [
        "# demo of how splitting is done\n",
        "test_bs = 32\n",
        "for z in range(0, 100, test_bs):\n",
        "    print(z+test_bs)\n",
        "\n",
        "# It doesn't matter if lagpas yung max index mo sa actual length\n",
        "w[0:5]"
      ],
      "execution_count": null,
      "outputs": [
        {
          "output_type": "stream",
          "text": [
            "32\n",
            "64\n",
            "96\n",
            "128\n"
          ],
          "name": "stdout"
        },
        {
          "output_type": "execute_result",
          "data": {
            "text/plain": [
              "tensor([[3, 2],\n",
              "        [4, 5],\n",
              "        [0, 9]])"
            ]
          },
          "metadata": {
            "tags": []
          },
          "execution_count": 57
        }
      ]
    }
  ]
}