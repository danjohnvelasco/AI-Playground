{
  "nbformat": 4,
  "nbformat_minor": 0,
  "metadata": {
    "colab": {
      "name": "Gradient Descent Weight Decay.ipynb",
      "provenance": [],
      "collapsed_sections": [],
      "authorship_tag": "ABX9TyPC8JIoKoDjpwr2cpAEO1eR",
      "include_colab_link": true
    },
    "kernelspec": {
      "name": "python3",
      "display_name": "Python 3"
    }
  },
  "cells": [
    {
      "cell_type": "markdown",
      "metadata": {
        "id": "view-in-github",
        "colab_type": "text"
      },
      "source": [
        "<a href=\"https://colab.research.google.com/github/danjohnvelasco/AI-Playground/blob/master/Gradient_Descent_Weight_Decay.ipynb\" target=\"_parent\"><img src=\"https://colab.research.google.com/assets/colab-badge.svg\" alt=\"Open In Colab\"/></a>"
      ]
    },
    {
      "cell_type": "markdown",
      "metadata": {
        "id": "L3nTT2JWbOg2",
        "colab_type": "text"
      },
      "source": [
        "# Gradient Descent with Weight Decay\n",
        "\n",
        "In this notebook, I'll tweak GD by adding regularization to it.\n",
        "\n",
        "Weight decay is a regularization technique.\n",
        "\n",
        "Regularization is a way to reduce overfitting by dampening curvy bits which approaches linear form. (I'll refine this explanation later)\n",
        "\n",
        "In simple terms, just add a regularization term to the loss function.\n",
        "\n",
        "When loss function is slightly bigger, gradient descent will make the weights **slightly smaller** than regular SGD/GD.\n",
        "\n",
        "Resources:\n",
        "- [Andrew Ng's Deep Learning Lecture on Weight decay](https://www.youtube.com/watch?v=6g0t3Phly2M)\n",
        "- [fastai course v3 (lesson 5)](https://youtu.be/CJKnDu2dxOE?list=PL9j5O7oQV1533cVfgNUQIJ483A0nrXdm3)\n",
        "- [D2l.ai](https://d2l.ai/chapter_multilayer-perceptrons/weight-decay.html)\n"
      ]
    },
    {
      "cell_type": "markdown",
      "metadata": {
        "id": "wPYCTthNO0qV",
        "colab_type": "text"
      },
      "source": [
        "# Intuition\n",
        "\n",
        "Weight decay / regularization is adding that regularization term (value) to the loss function.\n",
        "\n",
        "Increasing the value of the loss function will increase the value of gradients w.r.t. weights.\n",
        "\n",
        "Increasing the gradients means increasing the decrease/change of weights.\n",
        "\n",
        "Which results in a slightly smaller weights compared to SGD w/o weight decay.\n",
        "\n",
        "It introduces a new hyperparameter called wd (regularization parameter lambda in some literature).\n",
        "\n",
        "The bigger the wd, the faster the weights will approach to zero (decays faster).\n",
        "\n",
        "The smaller the wd, the weights will decay slower.\n",
        "\n",
        "The bigger the weights, the higher the \"penalty\" because it drives the overall value of regularization term (sum of squares of weights) which is used in updating the weights."
      ]
    },
    {
      "cell_type": "markdown",
      "metadata": {
        "id": "xbS0Y_n4cL85",
        "colab_type": "text"
      },
      "source": [
        "# Setup\n",
        "\n",
        "Problem: linear regression\n",
        "\n",
        "To exaggerate the overfitting scenario:\n",
        "- sample size = 100\n",
        "- training set = 10\n",
        "- test set = 90"
      ]
    },
    {
      "cell_type": "code",
      "metadata": {
        "id": "qdmJYr-dcnMc",
        "colab_type": "code",
        "colab": {}
      },
      "source": [
        "# Import dependencies\n",
        "from fastai.basics import *"
      ],
      "execution_count": 1,
      "outputs": []
    },
    {
      "cell_type": "code",
      "metadata": {
        "id": "DRgp40H7a-lS",
        "colab_type": "code",
        "colab": {}
      },
      "source": [
        "# number of points\n",
        "n=100"
      ],
      "execution_count": 65,
      "outputs": []
    },
    {
      "cell_type": "code",
      "metadata": {
        "id": "0Yigyf25chl5",
        "colab_type": "code",
        "colab": {
          "base_uri": "https://localhost:8080/",
          "height": 104
        },
        "outputId": "ee0ff3cc-c04a-4814-ec93-52feb8d37d0d"
      },
      "source": [
        "x = torch.ones(n,2) # type: torch.Tensor\n",
        "x[:,0].uniform_(-1.,1) # apply uniform_ on 1st column\n",
        "x[:5]"
      ],
      "execution_count": 66,
      "outputs": [
        {
          "output_type": "execute_result",
          "data": {
            "text/plain": [
              "tensor([[ 0.5132,  1.0000],\n",
              "        [ 0.7344,  1.0000],\n",
              "        [-0.0658,  1.0000],\n",
              "        [ 0.1003,  1.0000],\n",
              "        [-0.5464,  1.0000]])"
            ]
          },
          "metadata": {
            "tags": []
          },
          "execution_count": 66
        }
      ]
    },
    {
      "cell_type": "code",
      "metadata": {
        "id": "DCfqq0XKcilN",
        "colab_type": "code",
        "colab": {
          "base_uri": "https://localhost:8080/",
          "height": 35
        },
        "outputId": "bed3d343-dbe7-47d3-dfc8-c19e62e29ae9"
      },
      "source": [
        "# Correct answer\n",
        "a = tensor(3.,2)\n",
        "a"
      ],
      "execution_count": 67,
      "outputs": [
        {
          "output_type": "execute_result",
          "data": {
            "text/plain": [
              "tensor([3., 2.])"
            ]
          },
          "metadata": {
            "tags": []
          },
          "execution_count": 67
        }
      ]
    },
    {
      "cell_type": "code",
      "metadata": {
        "id": "kG6Y7mcgctNz",
        "colab_type": "code",
        "colab": {
          "base_uri": "https://localhost:8080/",
          "height": 265
        },
        "outputId": "87060c62-07ab-4438-9bfe-1ba7df82e40f"
      },
      "source": [
        "# Dependent variable\n",
        "# Add noise\n",
        "y = x@a + 2.5*torch.randn(n) # random numbers\n",
        "plt.scatter(x[:,0], y);"
      ],
      "execution_count": 68,
      "outputs": [
        {
          "output_type": "display_data",
          "data": {
            "image/png": "[encoded data removed]",
            "text/plain": [
              "<Figure size 432x288 with 1 Axes>"
            ]
          },
          "metadata": {
            "tags": [],
            "needs_background": "light"
          }
        }
      ]
    },
    {
      "cell_type": "code",
      "metadata": {
        "id": "tXy_3ozSgbEi",
        "colab_type": "code",
        "colab": {
          "base_uri": "https://localhost:8080/",
          "height": 35
        },
        "outputId": "4c33c7a8-985a-4d96-866b-34a22676a0dc"
      },
      "source": [
        "# train-test split\n",
        "# train = 20, test = 480\n",
        "x_train = x[90:]\n",
        "y_train = y[90:]\n",
        "x_test = x[:90]\n",
        "y_test = y[:90]\n",
        "\n",
        "\n",
        "x_train.shape, y_train.shape, x_test.shape, y_test.shape"
      ],
      "execution_count": 81,
      "outputs": [
        {
          "output_type": "execute_result",
          "data": {
            "text/plain": [
              "(torch.Size([10, 2]), torch.Size([10]), torch.Size([90, 2]), torch.Size([90]))"
            ]
          },
          "metadata": {
            "tags": []
          },
          "execution_count": 81
        }
      ]
    },
    {
      "cell_type": "code",
      "metadata": {
        "id": "bSHe_GVpcuw6",
        "colab_type": "code",
        "colab": {}
      },
      "source": [
        "# loss function\n",
        "def mse(y_hat, y): return ((y_hat-y)**2).mean()"
      ],
      "execution_count": 82,
      "outputs": []
    },
    {
      "cell_type": "markdown",
      "metadata": {
        "id": "6g92jVR2eKdI",
        "colab_type": "text"
      },
      "source": [
        "# Model"
      ]
    },
    {
      "cell_type": "code",
      "metadata": {
        "id": "aplc3X4Hc8OL",
        "colab_type": "code",
        "colab": {}
      },
      "source": [
        "def update_wd(x, y, iters, lr=1e-1, wd=0):\n",
        "    '''updates vector a'''\n",
        "    # tracks losses history\n",
        "    losses = [] \n",
        "    test_losses = []\n",
        "    \n",
        "    for i in range(iters):\n",
        "        y_hat = x@a # Make predictions on training set\n",
        "        y_bar = x_test@a # Make predictions on test set\n",
        "        \n",
        "        # sum of squared weights\n",
        "        # this is just 2 parameters for our setup\n",
        "        w2 = 0\n",
        "        for p in a: \n",
        "            w2 += (p**2).sum()\n",
        "\n",
        "        # y_hat -> predictions, y -> actual value\n",
        "        loss = mse(y_hat, y) + wd*w2 # add regularization term to loss function\n",
        "\n",
        "        loss.backward() # computes gradient of current tensor wrt to graph leaves (need to dig into this)\n",
        "\n",
        "        test_loss = mse(y_bar, y_test) # compute loss for test function\n",
        "\n",
        "        with torch.no_grad():\n",
        "            a.sub_(lr * a.grad) # subtracts learning rate * gradient to the parameters (inplace)\n",
        "            a.grad.zero_() # reset grad to zero because torch accumulates grad.. you don't want to reuse it\n",
        "        \n",
        "\n",
        "        # Code not related to gradient descent below:\n",
        "        if i % 10 == 0: \n",
        "            print(loss)\n",
        "            print(f\"Iter:{i}\\n{a}\")\n",
        "\n",
        "        # track losses for plotting\n",
        "        losses.append(loss) \n",
        "        test_losses.append(test_loss) \n",
        "        \n",
        "    # Plot    \n",
        "    plt.figure(figsize=(12,8))\n",
        "    plt.plot(list(range(0,len(losses))), losses, label=\"train\")\n",
        "    plt.plot(list(range(0,len(test_losses))), test_losses, label=\"test\")\n",
        "    plt.xlabel(\"iters\")\n",
        "    plt.ylabel(\"loss\")\n",
        "    plt.legend(loc=\"upper right\")\n"
      ],
      "execution_count": 119,
      "outputs": []
    },
    {
      "cell_type": "markdown",
      "metadata": {
        "id": "-ycnXPm_Kygm",
        "colab_type": "text"
      },
      "source": [
        "# Compare runs of SGD w/ and w/o regularization.\n",
        "\n",
        "Notice that the weights \"a\" in SGD w/ regularization are slightly lower than the ones w/o regularization.\n",
        "\n",
        "When train loss is way lower than test loss, it is overfitting.\n",
        "\n",
        "As you can see in the plot, the distance between the train-test loss is smaller when regularization is applied compared to w/o regularization.\n",
        "\n",
        "It means that regularization minimizes overfitting to the training set."
      ]
    },
    {
      "cell_type": "code",
      "metadata": {
        "id": "gZOyF2MIdKBb",
        "colab_type": "code",
        "colab": {
          "base_uri": "https://localhost:8080/",
          "height": 843
        },
        "outputId": "ea0bc31b-2eaf-4d59-c5fb-6c0f81db5dd0"
      },
      "source": [
        "# Test w/ weight decay\n",
        "a = nn.Parameter(tensor(-250.,20.)); # initialize parameters\n",
        "update_wd(x_train, y_train, 50, wd=0.1)"
      ],
      "execution_count": 125,
      "outputs": [
        {
          "output_type": "stream",
          "text": [
            "tensor(15790.2051, grad_fn=<AddBackward0>)\n",
            "Iter:0\n",
            "Parameter containing:\n",
            "tensor([-237.7524,   16.1916], requires_grad=True)\n",
            "tensor(5711.6660, grad_fn=<AddBackward0>)\n",
            "Iter:10\n",
            "Parameter containing:\n",
            "tensor([-143.6116,    3.5443], requires_grad=True)\n",
            "tensor(2108.3733, grad_fn=<AddBackward0>)\n",
            "Iter:20\n",
            "Parameter containing:\n",
            "tensor([-86.4012,   2.2443], requires_grad=True)\n",
            "tensor(779.9037, grad_fn=<AddBackward0>)\n",
            "Iter:30\n",
            "Parameter containing:\n",
            "tensor([-51.6504,   1.9866], requires_grad=True)\n",
            "tensor(289.8323, grad_fn=<AddBackward0>)\n",
            "Iter:40\n",
            "Parameter containing:\n",
            "tensor([-30.5435,   1.8745], requires_grad=True)\n"
          ],
          "name": "stdout"
        },
        {
          "output_type": "display_data",
          "data": {
            "image/png": "[encoded data removed]",
            "text/plain": [
              "<Figure size 864x576 with 1 Axes>"
            ]
          },
          "metadata": {
            "tags": [],
            "needs_background": "light"
          }
        }
      ]
    },
    {
      "cell_type": "code",
      "metadata": {
        "id": "Yj19Xhpkf_td",
        "colab_type": "code",
        "colab": {
          "base_uri": "https://localhost:8080/",
          "height": 843
        },
        "outputId": "f1f3f366-ca31-4e4f-ede3-21ff281421e5"
      },
      "source": [
        "# Test w/o weight decay\n",
        "a = nn.Parameter(tensor(-250.,20.)); # initialize parameters\n",
        "update_wd(x_train, y_train, 50, wd=0)"
      ],
      "execution_count": 121,
      "outputs": [
        {
          "output_type": "stream",
          "text": [
            "tensor(9500.2051, grad_fn=<AddBackward0>)\n",
            "Iter:0\n",
            "Parameter containing:\n",
            "tensor([-242.7524,   16.5916], requires_grad=True)\n",
            "tensor(5158.4346, grad_fn=<AddBackward0>)\n",
            "Iter:10\n",
            "Parameter containing:\n",
            "tensor([-180.6818,    4.2419], requires_grad=True)\n",
            "tensor(2884.1543, grad_fn=<AddBackward0>)\n",
            "Iter:20\n",
            "Parameter containing:\n",
            "tensor([-134.2244,    2.7178], requires_grad=True)\n",
            "tensor(1613.9996, grad_fn=<AddBackward0>)\n",
            "Iter:30\n",
            "Parameter containing:\n",
            "tensor([-99.4775,   2.4060], requires_grad=True)\n",
            "tensor(903.6649, grad_fn=<AddBackward0>)\n",
            "Iter:40\n",
            "Parameter containing:\n",
            "tensor([-73.4920,   2.2617], requires_grad=True)\n"
          ],
          "name": "stdout"
        },
        {
          "output_type": "display_data",
          "data": {
            "image/png": "[encoded data removed]",
            "text/plain": [
              "<Figure size 864x576 with 1 Axes>"
            ]
          },
          "metadata": {
            "tags": [],
            "needs_background": "light"
          }
        }
      ]
    }
  ]
}