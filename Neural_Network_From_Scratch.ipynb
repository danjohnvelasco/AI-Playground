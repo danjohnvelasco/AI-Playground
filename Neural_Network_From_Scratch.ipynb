{
  "nbformat": 4,
  "nbformat_minor": 0,
  "metadata": {
    "colab": {
      "name": "Neural Network From Scratch.ipynb",
      "provenance": [],
      "collapsed_sections": [
        "Gf893Nl30eUZ",
        "l6LjjQCm3-4D",
        "2CgWw_O097BX",
        "d_243F5bBe2E",
        "wjV42SkQr7zp",
        "y6KJcDwBA63P"
      ],
      "toc_visible": true,
      "mount_file_id": "1hFnCO-gp1AKJnU3dl1qquXIuiag0Quya",
      "authorship_tag": "ABX9TyM4R3tCOpe0UvXPUdWkon2N",
      "include_colab_link": true
    },
    "kernelspec": {
      "name": "python3",
      "display_name": "Python 3"
    }
  },
  "cells": [
    {
      "cell_type": "markdown",
      "metadata": {
        "id": "view-in-github",
        "colab_type": "text"
      },
      "source": [
        "<a href=\"https://colab.research.google.com/github/danjohnvelasco/AI-Sandbox/blob/master/Neural_Network_From_Scratch.ipynb\" target=\"_parent\"><img src=\"https://colab.research.google.com/assets/colab-badge.svg\" alt=\"Open In Colab\"/></a>"
      ]
    },
    {
      "cell_type": "markdown",
      "metadata": {
        "id": "gY-_0mZqzcLO"
      },
      "source": [
        "# Neural Network from Scratch\n",
        "\n",
        "My attempt in learning the concept of neural networks from ground up.\n"
      ]
    },
    {
      "cell_type": "code",
      "metadata": {
        "id": "dbSXyPQQncPp",
        "colab": {
          "base_uri": "https://localhost:8080/"
        },
        "outputId": "e08957d3-c76d-447f-c6ec-f0c20207a5ce"
      },
      "source": [
        "!pip show fastai"
      ],
      "execution_count": 35,
      "outputs": [
        {
          "output_type": "stream",
          "text": [
            "Name: fastai\n",
            "Version: 1.0.61\n",
            "Summary: fastai makes deep learning with PyTorch faster, more accurate, and easier\n",
            "Home-page: https://github.com/fastai/fastai\n",
            "Author: Jeremy Howard\n",
            "Author-email: info@fast.ai\n",
            "License: Apache Software License 2.0\n",
            "Location: /usr/local/lib/python3.6/dist-packages\n",
            "Requires: pandas, pyyaml, nvidia-ml-py3, numexpr, numpy, bottleneck, dataclasses, beautifulsoup4, Pillow, fastprogress, packaging, requests, torchvision, torch, spacy, scipy, matplotlib\n",
            "Required-by: \n"
          ],
          "name": "stdout"
        }
      ]
    },
    {
      "cell_type": "code",
      "metadata": {
        "id": "XRhbLGOpyD_e",
        "colab": {
          "base_uri": "https://localhost:8080/"
        },
        "outputId": "8993fe2d-6c73-45af-fe01-32a93fd3d003"
      },
      "source": [
        "!nvidia-smi"
      ],
      "execution_count": null,
      "outputs": [
        {
          "output_type": "stream",
          "text": [
            "Wed Dec 16 01:21:55 2020       \n",
            "+-----------------------------------------------------------------------------+\n",
            "| NVIDIA-SMI 455.45.01    Driver Version: 418.67       CUDA Version: 10.1     |\n",
            "|-------------------------------+----------------------+----------------------+\n",
            "| GPU  Name        Persistence-M| Bus-Id        Disp.A | Volatile Uncorr. ECC |\n",
            "| Fan  Temp  Perf  Pwr:Usage/Cap|         Memory-Usage | GPU-Util  Compute M. |\n",
            "|                               |                      |               MIG M. |\n",
            "|===============================+======================+======================|\n",
            "|   0  Tesla T4            Off  | 00000000:00:04.0 Off |                    0 |\n",
            "| N/A   57C    P8     9W /  70W |      0MiB / 15079MiB |      0%      Default |\n",
            "|                               |                      |                 ERR! |\n",
            "+-------------------------------+----------------------+----------------------+\n",
            "                                                                               \n",
            "+-----------------------------------------------------------------------------+\n",
            "| Processes:                                                                  |\n",
            "|  GPU   GI   CI        PID   Type   Process name                  GPU Memory |\n",
            "|        ID   ID                                                   Usage      |\n",
            "|=============================================================================|\n",
            "|  No running processes found                                                 |\n",
            "+-----------------------------------------------------------------------------+\n"
          ],
          "name": "stdout"
        }
      ]
    },
    {
      "cell_type": "code",
      "metadata": {
        "id": "eKCWKvz4y1YW",
        "colab": {
          "base_uri": "https://localhost:8080/"
        },
        "outputId": "76dc0d05-000e-4b66-c992-220df7b20e00"
      },
      "source": [
        "# autoreloads all modules\n",
        "%load_ext autoreload\n",
        "%autoreload 2"
      ],
      "execution_count": 36,
      "outputs": [
        {
          "output_type": "stream",
          "text": [
            "The autoreload extension is already loaded. To reload it, use:\n",
            "  %reload_ext autoreload\n"
          ],
          "name": "stdout"
        }
      ]
    },
    {
      "cell_type": "code",
      "metadata": {
        "id": "VWvrb2LzvCwh",
        "colab": {
          "base_uri": "https://localhost:8080/"
        },
        "outputId": "b4cad788-efcc-4b59-aaee-5b78849e0fe3"
      },
      "source": [
        "proj_path = '/content/drive/My Drive/fastai/part2'\n",
        "%cd {proj_path}"
      ],
      "execution_count": 37,
      "outputs": [
        {
          "output_type": "stream",
          "text": [
            "/content/drive/My Drive/fastai/part2\n"
          ],
          "name": "stdout"
        }
      ]
    },
    {
      "cell_type": "code",
      "metadata": {
        "id": "AU7bB4zDwjyC"
      },
      "source": [
        "from test import *\n",
        "from mnist import *\n",
        "from matmul import *"
      ],
      "execution_count": 38,
      "outputs": []
    },
    {
      "cell_type": "code",
      "metadata": {
        "id": "sqXAPDBAw_Fp"
      },
      "source": [
        "# Demo importing and using python module\n",
        "test_eq(\"HELLO\", 'HELLO')"
      ],
      "execution_count": 39,
      "outputs": []
    },
    {
      "cell_type": "code",
      "metadata": {
        "id": "nG1lh8qExCy4"
      },
      "source": [
        "from pathlib import Path\n",
        "from IPython.core.debugger import set_trace\n",
        "import pickle, gzip, math, torch, matplotlib as mpl\n",
        "import matplotlib.pyplot as plt\n",
        "from torch import tensor"
      ],
      "execution_count": 40,
      "outputs": []
    },
    {
      "cell_type": "markdown",
      "metadata": {
        "id": "Gf893Nl30eUZ"
      },
      "source": [
        "## Get Data"
      ]
    },
    {
      "cell_type": "code",
      "metadata": {
        "id": "UpWWNMJ9zvyC",
        "colab": {
          "base_uri": "https://localhost:8080/"
        },
        "outputId": "ef75615a-d602-41ec-b3aa-65a9defc8ae6"
      },
      "source": [
        "x_train,y_train,x_valid,y_valid = load_mnist()"
      ],
      "execution_count": null,
      "outputs": [
        {
          "output_type": "stream",
          "text": [
            "Test Status: Pass\n",
            "Data loaded successfully!\n"
          ],
          "name": "stdout"
        }
      ]
    },
    {
      "cell_type": "code",
      "metadata": {
        "id": "fkgZ2VRs03T7"
      },
      "source": [
        "mpl.rcParams['image.cmap'] = 'gray'"
      ],
      "execution_count": null,
      "outputs": []
    },
    {
      "cell_type": "code",
      "metadata": {
        "id": "w3unwzLy3MjV"
      },
      "source": [
        "img = x_train[0]"
      ],
      "execution_count": null,
      "outputs": []
    },
    {
      "cell_type": "code",
      "metadata": {
        "id": "vf3Gx5eK3Ow1",
        "colab": {
          "base_uri": "https://localhost:8080/"
        },
        "outputId": "d81e4a56-f816-4550-834b-65438c33b6a9"
      },
      "source": [
        "img.view(28,28).type()"
      ],
      "execution_count": null,
      "outputs": [
        {
          "output_type": "execute_result",
          "data": {
            "application/vnd.google.colaboratory.intrinsic+json": {
              "type": "string"
            },
            "text/plain": [
              "'torch.FloatTensor'"
            ]
          },
          "metadata": {
            "tags": []
          },
          "execution_count": 11
        }
      ]
    },
    {
      "cell_type": "code",
      "metadata": {
        "id": "BzL6YhB43P5K",
        "colab": {
          "base_uri": "https://localhost:8080/"
        },
        "outputId": "aefce23a-e5f0-445d-97df-22014b1a414f"
      },
      "source": [
        "plt.imshow(img.view((28,28)));"
      ],
      "execution_count": null,
      "outputs": [
        {
          "output_type": "display_data",
          "data": {
            "image/png": "[encoded data removed]",
            "text/plain": [
              "<Figure size 432x288 with 1 Axes>"
            ]
          },
          "metadata": {
            "tags": [],
            "needs_background": "light"
          }
        }
      ]
    },
    {
      "cell_type": "code",
      "metadata": {
        "id": "OAhE5BQP9DSp"
      },
      "source": [
        "weights = torch.randn(784,10) # 784 refers to mnist, 10 refers to number of activations (digits 0-9)\n",
        "bias = torch.zeros(10)"
      ],
      "execution_count": null,
      "outputs": []
    },
    {
      "cell_type": "code",
      "metadata": {
        "id": "NmMG_0Tm86xH"
      },
      "source": [
        "m1 = x_valid[:5]\n",
        "m2 = weights"
      ],
      "execution_count": null,
      "outputs": []
    },
    {
      "cell_type": "code",
      "metadata": {
        "id": "tKwNDh0Z9A04",
        "colab": {
          "base_uri": "https://localhost:8080/"
        },
        "outputId": "d059745f-14c2-433f-dc3a-b04d344bd1c1"
      },
      "source": [
        "# confirm shape\n",
        "m1.shape, m2.shape"
      ],
      "execution_count": null,
      "outputs": [
        {
          "output_type": "execute_result",
          "data": {
            "text/plain": [
              "(torch.Size([5, 784]), torch.Size([784, 10]))"
            ]
          },
          "metadata": {
            "tags": []
          },
          "execution_count": 15
        }
      ]
    },
    {
      "cell_type": "markdown",
      "metadata": {
        "id": "l6LjjQCm3-4D"
      },
      "source": [
        "## Matrix Multipication"
      ]
    },
    {
      "cell_type": "code",
      "metadata": {
        "id": "Tx4bF6SB3h7y"
      },
      "source": [
        "from matmul import *"
      ],
      "execution_count": null,
      "outputs": []
    },
    {
      "cell_type": "code",
      "metadata": {
        "id": "pFpfAwJR9Piw",
        "colab": {
          "base_uri": "https://localhost:8080/"
        },
        "outputId": "fa200916-23a5-4e50-cf88-a012fa682f21"
      },
      "source": [
        "# result should have dimension 5 x 10\n",
        "# this is slow\n",
        "%time t1 = matmul_basic(m1, m2)"
      ],
      "execution_count": null,
      "outputs": [
        {
          "output_type": "stream",
          "text": [
            "CPU times: user 841 ms, sys: 0 ns, total: 841 ms\n",
            "Wall time: 845 ms\n"
          ],
          "name": "stdout"
        }
      ]
    },
    {
      "cell_type": "code",
      "metadata": {
        "id": "gq6yjaar9TXB",
        "colab": {
          "base_uri": "https://localhost:8080/"
        },
        "outputId": "f2d6bacd-3bd3-4803-cd90-7e7b8173abda"
      },
      "source": [
        "# The result is correct\n",
        "t1.shape"
      ],
      "execution_count": null,
      "outputs": [
        {
          "output_type": "execute_result",
          "data": {
            "text/plain": [
              "torch.Size([5, 10])"
            ]
          },
          "metadata": {
            "tags": []
          },
          "execution_count": 16
        }
      ]
    },
    {
      "cell_type": "markdown",
      "metadata": {
        "id": "2CgWw_O097BX"
      },
      "source": [
        "## Elementwise operations\n",
        "\n",
        "Refactor your matmul loop to utilize elementwise vector operations"
      ]
    },
    {
      "cell_type": "code",
      "metadata": {
        "id": "Y_yUVSjk_tS3"
      },
      "source": [
        "from matmul import *"
      ],
      "execution_count": null,
      "outputs": []
    },
    {
      "cell_type": "code",
      "metadata": {
        "id": "7wClA6Sg_g4i",
        "colab": {
          "base_uri": "https://localhost:8080/"
        },
        "outputId": "8392e350-e99f-4a21-ec21-0f33431d198e"
      },
      "source": [
        "m1 = x_valid[:5]\n",
        "m2 = weights\n",
        "\n",
        "# confirm shape\n",
        "m1.shape, m2.shape"
      ],
      "execution_count": null,
      "outputs": [
        {
          "output_type": "execute_result",
          "data": {
            "text/plain": [
              "(torch.Size([5, 784]), torch.Size([784, 10]))"
            ]
          },
          "metadata": {
            "tags": []
          },
          "execution_count": 50
        }
      ]
    },
    {
      "cell_type": "code",
      "metadata": {
        "id": "n86eKWl39qnQ",
        "colab": {
          "base_uri": "https://localhost:8080/"
        },
        "outputId": "363a0a59-dbf1-4245-f40d-e12481d87dd0"
      },
      "source": [
        "# It's now ~10x faster because we're using\n",
        "# elementwise vector operations written in pytorch\n",
        "# which is probably not written in python\n",
        "%time t1 = matmul_el(m1, m2)"
      ],
      "execution_count": null,
      "outputs": [
        {
          "output_type": "stream",
          "text": [
            "CPU times: user 1.76 ms, sys: 0 ns, total: 1.76 ms\n",
            "Wall time: 1.78 ms\n"
          ],
          "name": "stdout"
        }
      ]
    },
    {
      "cell_type": "code",
      "metadata": {
        "id": "F1dhwsgt_ii4",
        "colab": {
          "base_uri": "https://localhost:8080/"
        },
        "outputId": "9c566b2e-a023-4903-8894-92e8ff72b9fa"
      },
      "source": [
        "# The result is correct\n",
        "t1.shape"
      ],
      "execution_count": null,
      "outputs": [
        {
          "output_type": "execute_result",
          "data": {
            "text/plain": [
              "torch.Size([5, 10])"
            ]
          },
          "metadata": {
            "tags": []
          },
          "execution_count": 52
        }
      ]
    },
    {
      "cell_type": "code",
      "metadata": {
        "id": "K8DuQPLY_wqP"
      },
      "source": [
        "test_near(matmul(m1,m2), matmul_el(m1,m2))"
      ],
      "execution_count": null,
      "outputs": []
    },
    {
      "cell_type": "code",
      "metadata": {
        "id": "WT35MODLAjXY",
        "colab": {
          "base_uri": "https://localhost:8080/"
        },
        "outputId": "ceb93d9b-4d4f-4b12-f333-44cabebeb19f"
      },
      "source": [
        "# Both matmul are identical\n",
        "matmul(m1,m2)[0], matmul_el(m1,m2)[0]"
      ],
      "execution_count": null,
      "outputs": [
        {
          "output_type": "execute_result",
          "data": {
            "text/plain": [
              "(tensor([ -9.8819, -18.7256, -17.7464,  -7.4682,  -0.6600,  -3.2809,  -4.9012,\n",
              "          -9.8645,   5.9814,   0.4755]),\n",
              " tensor([ -9.8819, -18.7256, -17.7464,  -7.4682,  -0.6600,  -3.2809,  -4.9012,\n",
              "          -9.8645,   5.9814,   0.4755]))"
            ]
          },
          "metadata": {
            "tags": []
          },
          "execution_count": 62
        }
      ]
    },
    {
      "cell_type": "markdown",
      "metadata": {
        "id": "d_243F5bBe2E"
      },
      "source": [
        "## Broadcasting"
      ]
    },
    {
      "cell_type": "code",
      "metadata": {
        "id": "oj_qNNlaBf_r",
        "colab": {
          "base_uri": "https://localhost:8080/"
        },
        "outputId": "6a169f7a-e30e-475d-eae7-bdf47f5c75c4"
      },
      "source": [
        "# Toy small data to visualize the algorithm\n",
        "a = torch.rand(3, 3)\n",
        "b = torch.rand(3, 2)\n",
        "print(a)\n",
        "print(b)"
      ],
      "execution_count": null,
      "outputs": [
        {
          "output_type": "stream",
          "text": [
            "tensor([[0.5207, 0.1138, 0.8574],\n",
            "        [0.2467, 0.3023, 0.0629],\n",
            "        [0.9243, 0.3711, 0.2248]])\n",
            "tensor([[0.1439, 0.3608],\n",
            "        [0.5772, 0.2038],\n",
            "        [0.7731, 0.7944]])\n"
          ],
          "name": "stdout"
        }
      ]
    },
    {
      "cell_type": "code",
      "metadata": {
        "colab": {
          "base_uri": "https://localhost:8080/"
        },
        "id": "7I6KwhgmkBPF",
        "outputId": "5d6c9323-78ee-42e1-95c2-890b06dcb30a"
      },
      "source": [
        "m1 = x_valid[:5]\n",
        "m2 = weights\n",
        "\n",
        "# confirm shape\n",
        "m1.shape, m2.shape"
      ],
      "execution_count": null,
      "outputs": [
        {
          "output_type": "execute_result",
          "data": {
            "text/plain": [
              "(torch.Size([5, 784]), torch.Size([784, 10]))"
            ]
          },
          "metadata": {
            "tags": []
          },
          "execution_count": 52
        }
      ]
    },
    {
      "cell_type": "code",
      "metadata": {
        "id": "TaXkuJvQh3I1"
      },
      "source": [
        "from matmul import *"
      ],
      "execution_count": null,
      "outputs": []
    },
    {
      "cell_type": "code",
      "metadata": {
        "colab": {
          "base_uri": "https://localhost:8080/"
        },
        "id": "BY1LEaB-kD-e",
        "outputId": "369c826f-dfe2-443f-becb-0dcbf5d973cd"
      },
      "source": [
        "# Runtime now in µs, previously in ms\n",
        "%time t1 = matmul_br(m1, m2)"
      ],
      "execution_count": null,
      "outputs": [
        {
          "output_type": "stream",
          "text": [
            "CPU times: user 550 µs, sys: 0 ns, total: 550 µs\n",
            "Wall time: 555 µs\n"
          ],
          "name": "stdout"
        }
      ]
    },
    {
      "cell_type": "code",
      "metadata": {
        "colab": {
          "base_uri": "https://localhost:8080/"
        },
        "id": "UEilyMVwkMzl",
        "outputId": "8223402e-c185-49b4-a668-8040a32a555a"
      },
      "source": [
        "t1.shape"
      ],
      "execution_count": null,
      "outputs": [
        {
          "output_type": "execute_result",
          "data": {
            "text/plain": [
              "torch.Size([5, 10])"
            ]
          },
          "metadata": {
            "tags": []
          },
          "execution_count": 54
        }
      ]
    },
    {
      "cell_type": "code",
      "metadata": {
        "id": "1JvAGTdekQ-Q"
      },
      "source": [
        "test_near(matmul_el(m1,m2), matmul_br(m1,m2))"
      ],
      "execution_count": null,
      "outputs": []
    },
    {
      "cell_type": "markdown",
      "metadata": {
        "id": "wjV42SkQr7zp"
      },
      "source": [
        "## Einstein Summation"
      ]
    },
    {
      "cell_type": "code",
      "metadata": {
        "id": "fknsumier6uc"
      },
      "source": [
        "from matmul import *"
      ],
      "execution_count": null,
      "outputs": []
    },
    {
      "cell_type": "code",
      "metadata": {
        "colab": {
          "base_uri": "https://localhost:8080/"
        },
        "id": "2dLpZSP-6H6N",
        "outputId": "6a0572f6-dbc7-4db9-bbd9-cb85f663d82d"
      },
      "source": [
        "# Much faster than broadcasting version\n",
        "%time t1 = matmul_einsum(m1, m2)"
      ],
      "execution_count": null,
      "outputs": [
        {
          "output_type": "stream",
          "text": [
            "CPU times: user 184 µs, sys: 45 µs, total: 229 µs\n",
            "Wall time: 234 µs\n"
          ],
          "name": "stdout"
        }
      ]
    },
    {
      "cell_type": "code",
      "metadata": {
        "id": "sqG-IvJL9gcL",
        "colab": {
          "base_uri": "https://localhost:8080/"
        },
        "outputId": "41bd568d-ed10-44a2-bc1a-664e721c96f7"
      },
      "source": [
        "t1.shape"
      ],
      "execution_count": null,
      "outputs": [
        {
          "output_type": "execute_result",
          "data": {
            "text/plain": [
              "torch.Size([5, 10])"
            ]
          },
          "metadata": {
            "tags": []
          },
          "execution_count": 56
        }
      ]
    },
    {
      "cell_type": "code",
      "metadata": {
        "id": "Zfr4Fz42AsOS"
      },
      "source": [
        "test_near(matmul_el(m1,m2), matmul_einsum(m1,m2))"
      ],
      "execution_count": null,
      "outputs": []
    },
    {
      "cell_type": "markdown",
      "metadata": {
        "id": "y6KJcDwBA63P"
      },
      "source": [
        "## Default pytorch matmul (fastest)"
      ]
    },
    {
      "cell_type": "code",
      "metadata": {
        "id": "py8EPvw21M3E"
      },
      "source": [
        "from matmul import *"
      ],
      "execution_count": null,
      "outputs": []
    },
    {
      "cell_type": "code",
      "metadata": {
        "colab": {
          "base_uri": "https://localhost:8080/"
        },
        "id": "l6S8I8UhA9fl",
        "outputId": "6e5600fa-8293-4b43-a258-adc8cb2b0848"
      },
      "source": [
        "# Fastest\n",
        "%time t1 = matmul_fastest(m1,m2)"
      ],
      "execution_count": null,
      "outputs": [
        {
          "output_type": "stream",
          "text": [
            "CPU times: user 93 µs, sys: 23 µs, total: 116 µs\n",
            "Wall time: 120 µs\n"
          ],
          "name": "stdout"
        }
      ]
    },
    {
      "cell_type": "code",
      "metadata": {
        "colab": {
          "base_uri": "https://localhost:8080/"
        },
        "id": "f0RYuYA3BCPA",
        "outputId": "ad10f05c-26ed-4a38-f4fc-1c5248d7daa4"
      },
      "source": [
        "# Uses pytorch matmul when operands are pytorch tensors\n",
        "%time t2 = m1@m2"
      ],
      "execution_count": null,
      "outputs": [
        {
          "output_type": "stream",
          "text": [
            "CPU times: user 133 µs, sys: 0 ns, total: 133 µs\n",
            "Wall time: 137 µs\n"
          ],
          "name": "stdout"
        }
      ]
    },
    {
      "cell_type": "code",
      "metadata": {
        "id": "ewO-h3TLBYQu"
      },
      "source": [
        "test_near(t1, t2)"
      ],
      "execution_count": null,
      "outputs": []
    },
    {
      "cell_type": "code",
      "metadata": {
        "id": "u8cwRz0r77KW"
      },
      "source": [
        "# linear layer w/ bias\n",
        "t2 = linear(x=m1,w=m2,b=0)"
      ],
      "execution_count": null,
      "outputs": []
    },
    {
      "cell_type": "code",
      "metadata": {
        "id": "KztxUBTT73ru"
      },
      "source": [
        "# Check if linear function is working correctly\n",
        "test_near(t1, t2)"
      ],
      "execution_count": null,
      "outputs": []
    },
    {
      "cell_type": "markdown",
      "metadata": {
        "id": "CdYTXFFT1dap"
      },
      "source": [
        "## Forward Pass"
      ]
    },
    {
      "cell_type": "code",
      "metadata": {
        "id": "k2QO29qxERxp"
      },
      "source": [
        "from matmul import *\n",
        "from activations import *"
      ],
      "execution_count": null,
      "outputs": []
    },
    {
      "cell_type": "markdown",
      "metadata": {
        "id": "O0ct9d7fC6kb"
      },
      "source": [
        "### Get Data and Normalization"
      ]
    },
    {
      "cell_type": "markdown",
      "metadata": {
        "id": "OHIn48rfLXhH"
      },
      "source": [
        "Normalization typically means rescales the values into a range of [0,1]. Standardization typically means rescales data to have a mean of 0 and a standard deviation of 1 (unit variance).\r\n",
        "[[Source]](https://towardsdatascience.com/normalization-vs-standardization-quantitative-analysis-a91e8a79cebf)\r\n",
        "\r\n",
        "Sometimes the terms are used interchangeably pero iba talaga ibig sabihin. Parang sa lesson na to, normalization tawag nila sa standardization.\r\n",
        "\r\n",
        "**Formula:**\r\n",
        "\r\n",
        "z = x - mean / stdev\r\n",
        "\r\n",
        "where z is the standardized value"
      ]
    },
    {
      "cell_type": "code",
      "metadata": {
        "colab": {
          "base_uri": "https://localhost:8080/"
        },
        "id": "AF0_orC_CkSs",
        "outputId": "68917873-e268-4839-a05c-cb959746a7be"
      },
      "source": [
        "x_train,y_train,x_valid,y_valid = load_mnist()"
      ],
      "execution_count": 41,
      "outputs": [
        {
          "output_type": "stream",
          "text": [
            "Test Status: Pass\n",
            "Data loaded successfully!\n"
          ],
          "name": "stdout"
        }
      ]
    },
    {
      "cell_type": "code",
      "metadata": {
        "colab": {
          "base_uri": "https://localhost:8080/"
        },
        "id": "LR5u6ahLClfT",
        "outputId": "c6c464ce-4da7-4138-d60e-5a355a1540a6"
      },
      "source": [
        "x_train.mean(), x_train.std(), x_valid.mean(), x_valid.std()"
      ],
      "execution_count": 42,
      "outputs": [
        {
          "output_type": "execute_result",
          "data": {
            "text/plain": [
              "(tensor(0.1304), tensor(0.3073), tensor(0.1287), tensor(0.3050))"
            ]
          },
          "metadata": {
            "tags": []
          },
          "execution_count": 42
        }
      ]
    },
    {
      "cell_type": "code",
      "metadata": {
        "id": "mKSBnHXD9bqs"
      },
      "source": [
        "def normalize(x, m, s): \n",
        "    return (x-m)/s"
      ],
      "execution_count": 43,
      "outputs": []
    },
    {
      "cell_type": "code",
      "metadata": {
        "colab": {
          "base_uri": "https://localhost:8080/"
        },
        "id": "1RhJEz_e9d9U",
        "outputId": "8047a5d3-99d3-4990-ef0c-fd5ef54dec26"
      },
      "source": [
        "# We must standardize our input first\n",
        "# To standardize, you must (x - mean)/std\n",
        "\n",
        "# Get the mean and std\n",
        "train_mean,train_std = x_train.mean(),x_train.std()\n",
        "train_mean,train_std"
      ],
      "execution_count": 44,
      "outputs": [
        {
          "output_type": "execute_result",
          "data": {
            "text/plain": [
              "(tensor(0.1304), tensor(0.3073))"
            ]
          },
          "metadata": {
            "tags": []
          },
          "execution_count": 44
        }
      ]
    },
    {
      "cell_type": "code",
      "metadata": {
        "id": "1yH-N_xj-wRu"
      },
      "source": [
        "# standardize train set\n",
        "x_train = normalize(x_train, train_mean, train_std)\n",
        "\n",
        "# standardize validation set\n",
        "# Note: Use train set mean, not validation mean kasi magkaiba yan ng distribution\n",
        "x_valid = normalize(x_valid, train_mean, train_std)"
      ],
      "execution_count": 45,
      "outputs": []
    },
    {
      "cell_type": "code",
      "metadata": {
        "colab": {
          "base_uri": "https://localhost:8080/"
        },
        "id": "jI8wjAllCw-o",
        "outputId": "154830ef-74c6-435a-c286-dbde82294762"
      },
      "source": [
        "# Standardization should turn mean = 0, std = 1\n",
        "x_train.mean(), x_train.std(), x_valid.mean(), x_valid.std()"
      ],
      "execution_count": 46,
      "outputs": [
        {
          "output_type": "execute_result",
          "data": {
            "text/plain": [
              "(tensor(3.8966e-08), tensor(1.), tensor(-0.0059), tensor(0.9924))"
            ]
          },
          "metadata": {
            "tags": []
          },
          "execution_count": 46
        }
      ]
    },
    {
      "cell_type": "code",
      "metadata": {
        "colab": {
          "base_uri": "https://localhost:8080/"
        },
        "id": "Xmdx34R2L4pw",
        "outputId": "5b260a74-fd8b-4250-a768-f88ddd34ae07"
      },
      "source": [
        "# Value is not rescaled between 0 and 1 which shows\r\n",
        "# that this is not the same as normalization\r\n",
        "x_train.min(), x_train.max()"
      ],
      "execution_count": 47,
      "outputs": [
        {
          "output_type": "execute_result",
          "data": {
            "text/plain": [
              "(tensor(-0.4245), tensor(2.8170))"
            ]
          },
          "metadata": {
            "tags": []
          },
          "execution_count": 47
        }
      ]
    },
    {
      "cell_type": "markdown",
      "metadata": {
        "id": "6uqgL51y2Jjg"
      },
      "source": [
        "### Defining basic architecture\n",
        "\n",
        "Here, we'll use Mean Squared Error (MSE) as a loss function to keep things simple. That's why you'll see that the output is of size **1**."
      ]
    },
    {
      "cell_type": "code",
      "metadata": {
        "id": "uid-MEZG1ecu"
      },
      "source": [
        "# num of hidden units\n",
        "nh = 50\n",
        "\n",
        "# length of input (flattened 28 x 28 img)\n",
        "m = 784\n",
        "\n",
        "n = 50,000\n",
        "c = tensor(10)"
      ],
      "execution_count": 48,
      "outputs": []
    },
    {
      "cell_type": "code",
      "metadata": {
        "colab": {
          "base_uri": "https://localhost:8080/"
        },
        "id": "E0Xq6aj83Nj4",
        "outputId": "697ccfa4-5830-4932-a53e-0ed0787fea9b"
      },
      "source": [
        "# naive random init\n",
        "w1 = torch.randn(m,nh)\n",
        "b1 = torch.zeros(nh)\n",
        "w2 = torch.randn(nh,1)\n",
        "b2 = torch.zeros(1)\n",
        "\n",
        "w1.mean(), w1.std()"
      ],
      "execution_count": 49,
      "outputs": [
        {
          "output_type": "execute_result",
          "data": {
            "text/plain": [
              "(tensor(0.0003), tensor(0.9932))"
            ]
          },
          "metadata": {
            "tags": []
          },
          "execution_count": 49
        }
      ]
    },
    {
      "cell_type": "code",
      "metadata": {
        "colab": {
          "base_uri": "https://localhost:8080/"
        },
        "id": "75TdxI5cDXNA",
        "outputId": "0ff073fd-e666-49a7-b6f3-4c84e6eef256"
      },
      "source": [
        "# Input has mean=0, std=1\n",
        "x_valid.mean(), x_valid.std()"
      ],
      "execution_count": 50,
      "outputs": [
        {
          "output_type": "execute_result",
          "data": {
            "text/plain": [
              "(tensor(-0.0059), tensor(0.9924))"
            ]
          },
          "metadata": {
            "tags": []
          },
          "execution_count": 50
        }
      ]
    },
    {
      "cell_type": "markdown",
      "metadata": {
        "id": "c8cf8BLRFQqh"
      },
      "source": [
        "The result doesn't have a mean=0, std=1\n",
        "\n",
        "What we want is to have those properties in the activations\n",
        "\n",
        "Why? We'll know in the following lectures. (AUTHOR, ANSWER THIS LATER)"
      ]
    },
    {
      "cell_type": "code",
      "metadata": {
        "colab": {
          "base_uri": "https://localhost:8080/"
        },
        "id": "Nphni75TDP8X",
        "outputId": "4ad56441-d0a1-48d6-82de-8c7c318ee68f"
      },
      "source": [
        "t1 = linear(x_valid, w1, b1)\n",
        "t1.mean(), t1.std()"
      ],
      "execution_count": null,
      "outputs": [
        {
          "output_type": "execute_result",
          "data": {
            "text/plain": [
              "(tensor(0.1957), tensor(25.9628))"
            ]
          },
          "metadata": {
            "tags": []
          },
          "execution_count": 52
        }
      ]
    },
    {
      "cell_type": "code",
      "metadata": {
        "colab": {
          "base_uri": "https://localhost:8080/"
        },
        "id": "GOV7xSXY3I7x",
        "outputId": "228fa75e-ac77-4a19-d643-68afecbdecb8"
      },
      "source": [
        "# standard xavier init\n",
        "w1 = torch.randn(m,nh)/math.sqrt(m)\n",
        "b1 = torch.zeros(nh)\n",
        "w2 = torch.randn(nh,1)/math.sqrt(nh)\n",
        "b2 = torch.zeros(1)\n",
        "\n",
        "w1.mean(), w1.std()"
      ],
      "execution_count": null,
      "outputs": [
        {
          "output_type": "execute_result",
          "data": {
            "text/plain": [
              "(tensor(8.6533e-05), tensor(0.0357))"
            ]
          },
          "metadata": {
            "tags": []
          },
          "execution_count": 53
        }
      ]
    },
    {
      "cell_type": "markdown",
      "metadata": {
        "id": "QVCvlh0OFUkl"
      },
      "source": [
        "Using xavier init, the activations have mean=0, std=1 (or at least, close to it)\n"
      ]
    },
    {
      "cell_type": "code",
      "metadata": {
        "colab": {
          "base_uri": "https://localhost:8080/"
        },
        "id": "8UsB8tjm7no-",
        "outputId": "09c0c5d9-3b54-4df3-f2dc-f92ae93c20e9"
      },
      "source": [
        "t1 = linear(x_valid, w1, b1)\n",
        "t1.mean(), t1.std()"
      ],
      "execution_count": null,
      "outputs": [
        {
          "output_type": "execute_result",
          "data": {
            "text/plain": [
              "(tensor(-0.0810), tensor(1.0039))"
            ]
          },
          "metadata": {
            "tags": []
          },
          "execution_count": 54
        }
      ]
    },
    {
      "cell_type": "markdown",
      "metadata": {
        "id": "2cpaxgUXFXDP"
      },
      "source": [
        "But after a relu, it's gone...\n",
        "\n",
        "Why? Because RELU gets rid of the negatives that is why the mean is almost halved"
      ]
    },
    {
      "cell_type": "code",
      "metadata": {
        "colab": {
          "base_uri": "https://localhost:8080/"
        },
        "id": "z7mkUT-sD5zu",
        "outputId": "e464ebf8-a697-444b-e247-2ff94413fa90"
      },
      "source": [
        "t1 = relu(linear(x_valid, w1, b1))\n",
        "t1.mean(), t1.std()"
      ],
      "execution_count": null,
      "outputs": [
        {
          "output_type": "execute_result",
          "data": {
            "text/plain": [
              "(tensor(0.3562), tensor(0.5635))"
            ]
          },
          "metadata": {
            "tags": []
          },
          "execution_count": 55
        }
      ]
    },
    {
      "cell_type": "markdown",
      "metadata": {
        "id": "Gq4v_vK3FOSl"
      },
      "source": [
        "**This is where kaiming init comes to the rescue!**\n",
        "\n",
        "Standard deviation will halve every layer which means that there is not much left after a couple of layers. We solve this problem by dividing 2 with m.\n",
        "\n",
        "\n",
        "\n",
        "```\n",
        "math.sqrt(2/m)\n",
        "```\n",
        "\n"
      ]
    },
    {
      "cell_type": "code",
      "metadata": {
        "colab": {
          "base_uri": "https://localhost:8080/"
        },
        "id": "C-dLFiFhEOvT",
        "outputId": "d7384e7a-f480-4977-f267-db233b74b680"
      },
      "source": [
        "# kaiming init\n",
        "w1 = torch.randn(m,nh)*math.sqrt(2/m)\n",
        "b1 = torch.zeros(nh)\n",
        "w2 = torch.randn(nh,1)*math.sqrt(2/nh)\n",
        "b2 = torch.zeros(1)\n",
        "\n",
        "w1.mean(), w1.std()"
      ],
      "execution_count": null,
      "outputs": [
        {
          "output_type": "execute_result",
          "data": {
            "text/plain": [
              "(tensor(0.0002), tensor(0.0505))"
            ]
          },
          "metadata": {
            "tags": []
          },
          "execution_count": 56
        }
      ]
    },
    {
      "cell_type": "markdown",
      "metadata": {
        "id": "v1Ejf6MMF3uM"
      },
      "source": [
        "The standard deviation should now be closer to 1."
      ]
    },
    {
      "cell_type": "code",
      "metadata": {
        "colab": {
          "base_uri": "https://localhost:8080/"
        },
        "id": "Pbi6onJOF0Ah",
        "outputId": "90510770-b26d-485e-ea47-e3835c05dbed"
      },
      "source": [
        "t1 = relu(linear(x_valid, w1, b1))\n",
        "t1.mean(), t1.std()"
      ],
      "execution_count": null,
      "outputs": [
        {
          "output_type": "execute_result",
          "data": {
            "text/plain": [
              "(tensor(0.5217), tensor(0.8159))"
            ]
          },
          "metadata": {
            "tags": []
          },
          "execution_count": 98
        }
      ]
    },
    {
      "cell_type": "markdown",
      "metadata": {
        "id": "OOSTBVgtF-GV"
      },
      "source": [
        "One slight problem though, the mean is still not closer to 0.\n",
        "\n",
        "So Jeremy Howard thought, why not subtract 0.5 from the relu function?\n",
        "\n",
        "\n",
        "```\n",
        "def relu(x): return x.clamp_min(0.) - 0.5\n",
        "```\n",
        "\n",
        "Let's see how it goes...\n"
      ]
    },
    {
      "cell_type": "code",
      "metadata": {
        "id": "FhkU-7w0F1Az"
      },
      "source": [
        "def relu(x): return x.clamp_min(0.) - 0.5"
      ],
      "execution_count": 51,
      "outputs": []
    },
    {
      "cell_type": "markdown",
      "metadata": {
        "id": "RD1H267WGr4d"
      },
      "source": [
        "This should show that the mean is closer to 0 now."
      ]
    },
    {
      "cell_type": "code",
      "metadata": {
        "colab": {
          "base_uri": "https://localhost:8080/"
        },
        "id": "-0U7u_LoGpKx",
        "outputId": "e6d4c92b-c506-41e9-aaa3-6fc457a901cd"
      },
      "source": [
        "t1 = relu(linear(x_valid, w1, b1))\n",
        "t1.mean(), t1.std()"
      ],
      "execution_count": 17,
      "outputs": [
        {
          "output_type": "execute_result",
          "data": {
            "text/plain": [
              "(tensor(10.9083), tensor(16.1153))"
            ]
          },
          "metadata": {
            "tags": []
          },
          "execution_count": 17
        }
      ]
    },
    {
      "cell_type": "markdown",
      "metadata": {
        "id": "ollw-fRsGxD5"
      },
      "source": [
        "At this point, I still don't get it why subtract 0.5 from the relu. What's happening here is that instead of removing the negatives, we replace all negatives with -0.5. See the following cells.\n",
        "\n",
        "**I still don't know why it's so important to keep the mean closer to 0 and std closer to 1, but we'll find out in the upcoming lectures. Right now, we're at Lesson 8.**"
      ]
    },
    {
      "cell_type": "code",
      "metadata": {
        "colab": {
          "base_uri": "https://localhost:8080/"
        },
        "id": "JfKfH6f5HFew",
        "outputId": "5785bcee-1e87-45c2-842b-682aee90d845"
      },
      "source": [
        "t1.min(), t1.max()"
      ],
      "execution_count": null,
      "outputs": [
        {
          "output_type": "execute_result",
          "data": {
            "text/plain": [
              "(tensor(-0.5000), tensor(6.5514))"
            ]
          },
          "metadata": {
            "tags": []
          },
          "execution_count": 104
        }
      ]
    },
    {
      "cell_type": "code",
      "metadata": {
        "colab": {
          "base_uri": "https://localhost:8080/",
          "height": 281
        },
        "id": "eyTbJIYoHLIe",
        "outputId": "07d410e5-2580-4fba-8537-639bdcc8dbd2"
      },
      "source": [
        "import matplotlib.pyplot as plt\n",
        "\n",
        "plt.plot(t1[0].numpy())"
      ],
      "execution_count": null,
      "outputs": [
        {
          "output_type": "execute_result",
          "data": {
            "text/plain": [
              "[<matplotlib.lines.Line2D at 0x7f87cd7306a0>]"
            ]
          },
          "metadata": {
            "tags": []
          },
          "execution_count": 111
        },
        {
          "output_type": "display_data",
          "data": {
            "image/png": "[encoded data removed]",
            "text/plain": [
              "<Figure size 432x288 with 1 Axes>"
            ]
          },
          "metadata": {
            "tags": [],
            "needs_background": "light"
          }
        }
      ]
    },
    {
      "cell_type": "markdown",
      "metadata": {
        "id": "TbrQF-DBImAW"
      },
      "source": [
        "At this point, we now have linear layer (matrix multiplication), activation function (ReLU), decent network normalization (or more accurately, standardization), and initialization (kaiming init) so we can now do a **Forward Pass**.\r\n",
        "\r\n",
        "All of these are implemented in PyTorch so let's use that instead."
      ]
    },
    {
      "cell_type": "code",
      "metadata": {
        "id": "AnWyg8RY_Jx5"
      },
      "source": [
        "from torch.nn import init\r\n",
        "\r\n",
        "# initialize tensors\r\n",
        "w1 = torch.zeros(m,nh)\r\n",
        "b1 = torch.zeros(nh)\r\n",
        "\r\n",
        "# perform kaiming initialization\r\n",
        "# fan_out means we divide by nh in kaiming init which means the variance is \r\n",
        "# 1 (or closer to 1) during the backward pass. Note: Implementation details \r\n",
        "# nalang ito at hindi ganoon ka related sa concepts\r\n",
        "init.kaiming_normal_(w1, mode='fan_out')\r\n",
        "t = relu(linear(x_valid, w1, b1))"
      ],
      "execution_count": 52,
      "outputs": []
    },
    {
      "cell_type": "markdown",
      "metadata": {
        "id": "nzAIhHnjKeYB"
      },
      "source": [
        "### Doing a Forward Pass"
      ]
    },
    {
      "cell_type": "code",
      "metadata": {
        "id": "8O192AOOGqRz"
      },
      "source": [
        "def model(xb):\n",
        "    # kaiming init\n",
        "    w1 = torch.randn(m,nh)*math.sqrt(2/m)\n",
        "    b1 = torch.zeros(nh)\n",
        "    w2 = torch.randn(nh,1)*math.sqrt(2/nh)\n",
        "    b2 = torch.zeros(1)\n",
        "\n",
        "    # architecture\n",
        "    i_h = relu(linear(xb, w1, b1)) # input to hidden\n",
        "    h_o = linear(i_h, w2, b2) # hidden to output\n",
        "\n",
        "    return h_o"
      ],
      "execution_count": 19,
      "outputs": []
    },
    {
      "cell_type": "code",
      "metadata": {
        "id": "UJ4i6bMyKxug"
      },
      "source": [
        "t1=model(x_train)"
      ],
      "execution_count": 20,
      "outputs": []
    },
    {
      "cell_type": "code",
      "metadata": {
        "colab": {
          "base_uri": "https://localhost:8080/"
        },
        "id": "Jk45zw0vK3SX",
        "outputId": "e92eb806-2a27-4595-cc16-e6e1a5344db6"
      },
      "source": [
        "# Should be 50,0000 x 1\n",
        "t1.shape"
      ],
      "execution_count": 21,
      "outputs": [
        {
          "output_type": "execute_result",
          "data": {
            "text/plain": [
              "torch.Size([50000, 1])"
            ]
          },
          "metadata": {
            "tags": []
          },
          "execution_count": 21
        }
      ]
    },
    {
      "cell_type": "markdown",
      "metadata": {
        "id": "KqRAGq73R90r"
      },
      "source": [
        "### Short review for torch.unsqueeze and squeeze"
      ]
    },
    {
      "cell_type": "code",
      "metadata": {
        "colab": {
          "base_uri": "https://localhost:8080/"
        },
        "id": "L1EpKC2FQUmZ",
        "outputId": "5c5ea4aa-93d7-4826-a281-ec359e2b670d"
      },
      "source": [
        "x = torch.tensor([1, 2, 3, 4])\r\n",
        "x.size()"
      ],
      "execution_count": null,
      "outputs": [
        {
          "output_type": "execute_result",
          "data": {
            "text/plain": [
              "torch.Size([4])"
            ]
          },
          "metadata": {
            "tags": []
          },
          "execution_count": 71
        }
      ]
    },
    {
      "cell_type": "code",
      "metadata": {
        "colab": {
          "base_uri": "https://localhost:8080/"
        },
        "id": "EAM7IZxoRUfd",
        "outputId": "ae01001c-f877-4f6b-c1c5-aadbea9a7814"
      },
      "source": [
        "# Add dimension of size one to the left\r\n",
        "torch.unsqueeze(x, 0).size()\r\n",
        "\r\n",
        "# Add dimension of size one to the right\r\n",
        "torch.unsqueeze(x, 1).size()"
      ],
      "execution_count": null,
      "outputs": [
        {
          "output_type": "execute_result",
          "data": {
            "text/plain": [
              "(torch.Size([1, 4]), torch.Size([4, 1]))"
            ]
          },
          "metadata": {
            "tags": []
          },
          "execution_count": 73
        }
      ]
    },
    {
      "cell_type": "code",
      "metadata": {
        "colab": {
          "base_uri": "https://localhost:8080/"
        },
        "id": "PScJq5kGRZbL",
        "outputId": "bf83e269-0fa4-4dba-829f-2725feca33e0"
      },
      "source": [
        "y = torch.unsqueeze(x, 1)\r\n",
        "z = torch.unsqueeze(y, 0)\r\n",
        "z.size()"
      ],
      "execution_count": null,
      "outputs": [
        {
          "output_type": "execute_result",
          "data": {
            "text/plain": [
              "torch.Size([1, 4, 1])"
            ]
          },
          "metadata": {
            "tags": []
          },
          "execution_count": 84
        }
      ]
    },
    {
      "cell_type": "code",
      "metadata": {
        "colab": {
          "base_uri": "https://localhost:8080/"
        },
        "id": "zHxrQ4lISd1X",
        "outputId": "43c26480-11d9-4d17-886a-1e078ed5df82"
      },
      "source": [
        "z.squeeze().size()"
      ],
      "execution_count": null,
      "outputs": [
        {
          "output_type": "execute_result",
          "data": {
            "text/plain": [
              "torch.Size([4])"
            ]
          },
          "metadata": {
            "tags": []
          },
          "execution_count": 87
        }
      ]
    },
    {
      "cell_type": "code",
      "metadata": {
        "colab": {
          "base_uri": "https://localhost:8080/"
        },
        "id": "X0dxG3iCTHzB",
        "outputId": "31ee7260-8d9a-42e2-a25f-85bfb6022af6"
      },
      "source": [
        "# Remove\r\n",
        "a = torch.unsqueeze(x, 1)\r\n",
        "a.size(), a.squeeze(-1).size()"
      ],
      "execution_count": null,
      "outputs": [
        {
          "output_type": "execute_result",
          "data": {
            "text/plain": [
              "(torch.Size([4, 1]), torch.Size([4]))"
            ]
          },
          "metadata": {
            "tags": []
          },
          "execution_count": 91
        }
      ]
    },
    {
      "cell_type": "markdown",
      "metadata": {
        "id": "LAt27U4ySDde"
      },
      "source": [
        "### Loss function: MSE\r\n",
        "\r\n",
        "#### $MSE = \\frac{1}{n}\\sum_{i=1}^{n} (y_{i}-\\hat{y}_{i})^{2}$"
      ]
    },
    {
      "cell_type": "code",
      "metadata": {
        "id": "AMX6kzR0SHst"
      },
      "source": [
        "def mse(output, targ):\r\n",
        "    # We need to get rid of the trailing (,1) dimension of i_h ([50000,1])\r\n",
        "    # to get MSE to work\r\n",
        "    return (output.squeeze(-1) - targ).pow(2).mean()"
      ],
      "execution_count": 22,
      "outputs": []
    },
    {
      "cell_type": "code",
      "metadata": {
        "id": "UB0WskuIT2to"
      },
      "source": [
        "y_train,y_valid = y_train.float(),y_valid.float()"
      ],
      "execution_count": 23,
      "outputs": []
    },
    {
      "cell_type": "code",
      "metadata": {
        "id": "3VNT_ZgPT8M0"
      },
      "source": [
        "preds = model(x_train)"
      ],
      "execution_count": 24,
      "outputs": []
    },
    {
      "cell_type": "code",
      "metadata": {
        "colab": {
          "base_uri": "https://localhost:8080/"
        },
        "id": "V3eh64m3T8wr",
        "outputId": "aff278cf-bf07-4cd8-f5f5-826ae68500bd"
      },
      "source": [
        "preds.shape"
      ],
      "execution_count": 25,
      "outputs": [
        {
          "output_type": "execute_result",
          "data": {
            "text/plain": [
              "torch.Size([50000, 1])"
            ]
          },
          "metadata": {
            "tags": []
          },
          "execution_count": 25
        }
      ]
    },
    {
      "cell_type": "code",
      "metadata": {
        "colab": {
          "base_uri": "https://localhost:8080/"
        },
        "id": "nJd6krZqT_Do",
        "outputId": "beeed31d-b2ff-4d47-fab8-96968f3bea5b"
      },
      "source": [
        "mse(preds, y_train)"
      ],
      "execution_count": 26,
      "outputs": [
        {
          "output_type": "execute_result",
          "data": {
            "text/plain": [
              "tensor(33.2137)"
            ]
          },
          "metadata": {
            "tags": []
          },
          "execution_count": 26
        }
      ]
    },
    {
      "cell_type": "markdown",
      "metadata": {
        "id": "9cIjjVwzUa3a"
      },
      "source": [
        "## Gradients and backward pass\r\n"
      ]
    },
    {
      "cell_type": "markdown",
      "metadata": {
        "id": "Db0oi4LpLRMn"
      },
      "source": [
        "We'll calculate the gradients starting from the very last function back to the\r\n",
        "very first function."
      ]
    },
    {
      "cell_type": "markdown",
      "metadata": {
        "id": "uHVLwxawvGCs"
      },
      "source": [
        "### For calculating gradient of the loss function w.r.t. to the output of previous layer\r\n",
        "\r\n",
        "Recall that $MSE = \\frac{1}{n}\\sum_{i=1}^{n} (y_{i}-\\hat{y}_{i})^{2}$ where $y$ is the output of previous layer.\r\n",
        "\r\n",
        "Take the $\\frac{\\partial }{\\partial y}$\r\n",
        "\r\n",
        "We can ignore the $\\sum$ for now and focus on $\\frac{1}{n} (y_{i}-\\hat{y}_{i})^{2}$\r\n",
        "\r\n",
        "By chain rule:\r\n",
        "\r\n",
        "$\\frac{\\partial f}{\\partial y} = \\frac{2}{n} (y_{i}-\\hat{y}_{i})*1-0$\r\n",
        "\r\n",
        "\r\n",
        "**Final answer:**\r\n",
        "\r\n",
        "$\\frac{\\partial f}{\\partial y} = \\frac{2}{n} (y_{i}-\\hat{y}_{i})$\r\n",
        "\r\n",
        "\r\n"
      ]
    },
    {
      "cell_type": "code",
      "metadata": {
        "colab": {
          "base_uri": "https://localhost:8080/"
        },
        "id": "-NwNEvEpqaAt",
        "outputId": "c340e69e-70bc-4ebe-d3e4-bfdce8c0a313"
      },
      "source": [
        "# let's take a look at the dimension of the model's output\r\n",
        "# this is mse_grad's inp parameter\r\n",
        "t1=model(x_train)\r\n",
        "t1.shape"
      ],
      "execution_count": 27,
      "outputs": [
        {
          "output_type": "execute_result",
          "data": {
            "text/plain": [
              "torch.Size([50000, 1])"
            ]
          },
          "metadata": {
            "tags": []
          },
          "execution_count": 27
        }
      ]
    },
    {
      "cell_type": "code",
      "metadata": {
        "colab": {
          "base_uri": "https://localhost:8080/"
        },
        "id": "MrDpbRQuqnki",
        "outputId": "cc96309b-0247-4ec3-beef-3728d672165c"
      },
      "source": [
        "# let's take a look at the dimension of the gold labels\r\n",
        "# this is mse_grad's targ parameter\r\n",
        "y_train.shape"
      ],
      "execution_count": 28,
      "outputs": [
        {
          "output_type": "execute_result",
          "data": {
            "text/plain": [
              "torch.Size([50000])"
            ]
          },
          "metadata": {
            "tags": []
          },
          "execution_count": 28
        }
      ]
    },
    {
      "cell_type": "code",
      "metadata": {
        "id": "VxitmiD2qHXf"
      },
      "source": [
        "def mse_grad(inp, targ):\r\n",
        "    # the inp is the output of the previous layer\r\n",
        "    # inp and targ must have the same dimension to do arithmetic operations\r\n",
        "    # reduce the dimension of inp to match targ's dimension\r\n",
        "    # take the gradient\r\n",
        "    # return it to rank 2 tensor\r\n",
        "    # store it in the inp\r\n",
        "    # by storing it in the inp, the previous layer can access it. Why?\r\n",
        "    # think backwards\r\n",
        "    inp.g = 2 * (inp.squeeze(-1) - targ).unsqueeze(-1) / inp.shape[0]"
      ],
      "execution_count": 31,
      "outputs": []
    },
    {
      "cell_type": "markdown",
      "metadata": {
        "id": "bRLHtm3Ky2-u"
      },
      "source": [
        "### For calculating the gradient of ReLU\r\n",
        "\r\n",
        "Recall that ReLU replaces the negatives with 0 and retains all positives which gives us a straigh line (y=x) on the 1st quadrant and flat line at the negative x-axis.\r\n",
        "\r\n",
        "In other words:\r\n",
        "\r\n",
        "         f(x) = 0 if x < 0\r\n",
        "                x if x >= 0  \r\n",
        "\r\n",
        "Calculating the gradient:\r\n",
        "\r\n",
        "         f'(x) = 0 if x < 0\r\n",
        "                 1 if x >= 0  \r\n",
        "\r\n",
        "\r\n"
      ]
    },
    {
      "cell_type": "code",
      "metadata": {
        "id": "vTFqOUd1ywXs"
      },
      "source": [
        "def relu_grad(inp, out):\r\n",
        "    # you can access the mse_grad from out param\r\n",
        "    # multiply the gradient of loss function i.e. the next layer\r\n",
        "    # to the derivative of the ReLU\r\n",
        "    inp.g = (inp>0).float() * out.g"
      ],
      "execution_count": 32,
      "outputs": []
    },
    {
      "cell_type": "markdown",
      "metadata": {
        "id": "9LJWdEAM9Ngs"
      },
      "source": [
        "### For calculating the gradient of linear layer (matrix multiplication)\r\n",
        "\r\n",
        "Recall that linear is just x @ w + b. Where @ is matrix multiplication, x = input, w = weights, and b = bias.\r\n",
        "\r\n",
        "####To use chain rule for the dot product\r\n",
        "Recall that a dot product is the same as doing element-wise multiplication and then summing it up ($ sum(x {\\otimes} w) $).\r\n",
        "\r\n",
        "To break it down into components: \r\n",
        "\r\n",
        "$\\vec{u} = \\vec{x} {\\otimes} \\vec{w}$\r\n",
        "\r\n",
        "$v = sum(\\vec{u}))$\r\n",
        "\r\n",
        "$y = v + b$\r\n",
        "\r\n",
        "If you substitute them all together it gives:\r\n",
        "\r\n",
        "$y = sum(x {\\otimes} w) + b$\r\n",
        "\r\n",
        "which is similar to this:\r\n",
        "\r\n",
        "$y = \\ x {\\cdot}  w + b $\r\n",
        "\r\n",
        "**The gradient of matmul w.r.t. to input:**\r\n",
        "\r\n",
        "$\\frac{\\partial y}{\\partial \\vec{x}} = \\frac{\\partial}{\\partial \\vec{x}} sum(x {\\otimes} w) + \\frac{\\partial}{\\partial \\vec{x}} b$\r\n",
        "\r\n",
        "Let's focus on  $\\frac{\\partial}{\\partial \\vec{x}} sum(x {\\otimes} w)$:\r\n",
        "\r\n",
        "Since we know that $\\vec{u} = \\vec{x} {\\otimes} \\vec{w}$, $v = sum(\\vec{u}))$\r\n",
        ", and $y = v + b$, then...\r\n",
        "\r\n",
        "$\\frac{\\partial y}{\\partial \\vec{x}} = \\frac{\\partial y}{\\partial v} \\frac{\\partial v}{\\partial \\vec{u}} \\frac{\\partial \\vec{u}}{\\partial \\vec{x}}$\r\n",
        "\r\n",
        "$\\frac{\\partial \\vec{u}}{\\partial \\vec{x}} = diag(w)$ ; diagonal matrix\r\n",
        "\r\n",
        "$\\frac{\\partial v}{\\partial \\vec{u}} = \\vec{1}^{T}$ ; just a horizontal vector of 1's\r\n",
        "\r\n",
        "$\\frac{\\partial y}{\\partial v} = 1 + 0$\r\n",
        "\r\n",
        "Therefore,\r\n",
        "\r\n",
        "$\\frac{\\partial y}{\\partial x} = 1 * \\vec{1} * w$ ; e.g. 1 x 3 * 3 x 3 = 1 x 3 yung diagonal matrix naging horizontal vector lang.\r\n",
        "\r\n",
        "$\\frac{\\partial y}{\\partial x} = w^{T}$ ; so yung mga weights na transpose lang (naging horizontal vector) pero matrix padin in practice kasi by batch siya i-process. Math-wise, you can treat them as a single instance represented in a vector.\r\n",
        "\r\n",
        "\r\n",
        "**The gradient of matmul w.r.t. to weights:**\r\n",
        "\r\n",
        "Similar to computation above...\r\n",
        "\r\n",
        "$\\frac{\\partial y}{\\partial \\vec{w}} = \\frac{\\partial}{\\partial \\vec{w}} sum(x {\\otimes} w) + \\frac{\\partial}{\\partial \\vec{w}} b$\r\n",
        "\r\n",
        "\r\n",
        "$\\frac{\\partial y}{\\partial \\vec{x}} = \\frac{\\partial y}{\\partial v} \\frac{\\partial v}{\\partial \\vec{u}} \\frac{\\partial \\vec{u}}{\\partial \\vec{x}}$\r\n",
        "\r\n",
        "$\\frac{\\partial \\vec{u}}{\\partial \\vec{w}} = diag(x)$ ; diagonal matrix\r\n",
        "\r\n",
        "$\\frac{\\partial v}{\\partial \\vec{u}} = \\vec{1}^{T}$ \r\n",
        "\r\n",
        "$\\frac{\\partial y}{\\partial v} = 1 + 0$\r\n",
        "\r\n",
        "Therefore,\r\n",
        "\r\n",
        "$\\frac{\\partial y}{\\partial x} = 1 * \\vec{1} * x$ \r\n",
        "\r\n",
        "$\\frac{\\partial y}{\\partial x} = x^{T}$ \r\n",
        "\r\n",
        "**The gradient of matmul w.r.t. to bias:**"
      ]
    },
    {
      "cell_type": "code",
      "metadata": {
        "id": "WNfB7mRu52X4"
      },
      "source": [
        "def lin_grad(inp, out, w, b):\r\n",
        "    # inp : output of previous layer\r\n",
        "    # out : out.g is gradient of next layer\r\n",
        "    # w   : weights\r\n",
        "    # b   : bias\r\n",
        "    \r\n",
        "    # grad wrt to input is just weights transpose\r\n",
        "    inp.g = out.g @ w.t()       # grad of next layer * grad of this layer\r\n",
        "\r\n",
        "    # grad wrt to w is just the inputs\r\n",
        "    w.g =  (inp.unsqueeze(-1) * out.g.unsqueeze(1)).sum(0) # sum(input * grad of next layer); may sum dahil sa cost function MSE ay may summation (which is inignore natin kanina)\r\n",
        "\r\n",
        "    # grad wrt to b is just vector of 1's\r\n",
        "    b.g = out.g.sum(0) # sum(1 * grad of next layer); again, may sum dahil sa MSE"
      ],
      "execution_count": 33,
      "outputs": []
    },
    {
      "cell_type": "code",
      "metadata": {
        "id": "Dz4pOxJ0QCg3"
      },
      "source": [
        "def forward_and_backward(inp, targ):\r\n",
        "    # forward pass:\r\n",
        "    l1 = inp @ w1 + b1\r\n",
        "    l2 = relu(l1)\r\n",
        "    out = l2 @ w2 + b2\r\n",
        "\r\n",
        "    # Hindi ginagamit ang loss (scalar) per se sa computation ng gradients. Para lang siya sa tao.\r\n",
        "    # Hindi siya ginagamit in a sense na kahit tanggalin ko tong line of code na to, magagawa padin ang backpropagation\r\n",
        "    loss = mse(out, targ)\r\n",
        "\r\n",
        "    # backward pass\r\n",
        "    # chain rule lang from loss function to first layer (not including data input)\r\n",
        "    # na iniistore yung gradients at pinapasa pabalik (backwards)\r\n",
        "    mse_grad(out, targ)\r\n",
        "    lin_grad(l2, out, w2, b2)\r\n",
        "    relu_grad(l1, l2)\r\n",
        "    lin_grad(inp, l1, w1, b1)"
      ],
      "execution_count": 34,
      "outputs": []
    },
    {
      "cell_type": "code",
      "metadata": {
        "id": "6tGoTiXzShFR"
      },
      "source": [
        "def model(inp, targ):\r\n",
        "    # forward pass:\r\n",
        "    l1 = inp @ w1 + b1\r\n",
        "    l2 = relu(l1)\r\n",
        "    out = l2 @ w2 + b2\r\n",
        "\r\n",
        "    # Hindi ginagamit ang loss (scalar) per se sa computation ng gradients. Para lang siya sa tao.\r\n",
        "    # Hindi siya ginagamit in a sense na kahit tanggalin ko tong line of code na to, magagawa padin ang backpropagation\r\n",
        "    loss = mse(out, targ)\r\n",
        "\r\n",
        "    # backward pass\r\n",
        "    # chain rule lang from loss function to first layer (not including data input)\r\n",
        "    # na iniistore yung gradients at pinapasa pabalik (backwards)\r\n",
        "    mse_grad(out, targ)\r\n",
        "    lin_grad(l2, out, w2, b2)\r\n",
        "    relu_grad(l1, l2)\r\n",
        "    lin_grad(inp, l1, w1, b1)"
      ],
      "execution_count": 56,
      "outputs": []
    },
    {
      "cell_type": "code",
      "metadata": {
        "id": "XGOifgzIStac"
      },
      "source": [
        "# kaiming init\r\n",
        "w1 = torch.randn(m,nh)*math.sqrt(2/m)\r\n",
        "b1 = torch.zeros(nh)\r\n",
        "w2 = torch.randn(nh,1)*math.sqrt(2/nh)\r\n",
        "b2 = torch.zeros(1)\r\n",
        "\r\n",
        "model(x_train, y_train)"
      ],
      "execution_count": 57,
      "outputs": []
    },
    {
      "cell_type": "code",
      "metadata": {
        "id": "yFDtx8nyS2s7"
      },
      "source": [
        "# Save for testing against later\r\n",
        "w1g = w1.g.clone()\r\n",
        "w2g = w2.g.clone()\r\n",
        "b1g = b1.g.clone()\r\n",
        "b2g = b2.g.clone()\r\n",
        "ig  = x_train.g.clone()"
      ],
      "execution_count": 58,
      "outputs": []
    },
    {
      "cell_type": "markdown",
      "metadata": {
        "id": "5EZNmxR7TLyx"
      },
      "source": [
        "We use autograd to check if our results matches PyTorch's"
      ]
    },
    {
      "cell_type": "code",
      "metadata": {
        "id": "1HksFUurTPXa"
      },
      "source": [
        "xt2 = x_train.clone().requires_grad_(True)\r\n",
        "w12 = w1.clone().requires_grad_(True)\r\n",
        "w22 = w2.clone().requires_grad_(True)\r\n",
        "b12 = b1.clone().requires_grad_(True)\r\n",
        "b22 = b2.clone().requires_grad_(True)"
      ],
      "execution_count": 59,
      "outputs": []
    },
    {
      "cell_type": "code",
      "metadata": {
        "id": "3N8i6mSnTVek"
      },
      "source": [
        "def forward(inp, targ):\r\n",
        "    # forward pass:\r\n",
        "    l1 = inp @ w12 + b12\r\n",
        "    l2 = relu(l1)\r\n",
        "    out = l2 @ w22 + b22\r\n",
        "    # we don't actually need the loss in backward!\r\n",
        "    return mse(out, targ)"
      ],
      "execution_count": 60,
      "outputs": []
    },
    {
      "cell_type": "code",
      "metadata": {
        "id": "94v6TRshTYEk"
      },
      "source": [
        "loss = forward(xt2, y_train)"
      ],
      "execution_count": 61,
      "outputs": []
    },
    {
      "cell_type": "code",
      "metadata": {
        "id": "G9OywAjTTavJ"
      },
      "source": [
        "# Computes the gradient of current tensor w.r.t. graph leaves\r\n",
        "loss.backward()"
      ],
      "execution_count": 63,
      "outputs": []
    },
    {
      "cell_type": "code",
      "metadata": {
        "id": "m_T8_87uTiND"
      },
      "source": [
        "# Our gradients are almost the same as PyTorch's\r\n",
        "test_near(w22.grad, w2g)\r\n",
        "test_near(b22.grad, b2g)\r\n",
        "test_near(w12.grad, w1g)\r\n",
        "test_near(b12.grad, b1g)\r\n",
        "test_near(xt2.grad, ig)"
      ],
      "execution_count": 65,
      "outputs": []
    },
    {
      "cell_type": "code",
      "metadata": {
        "colab": {
          "base_uri": "https://localhost:8080/"
        },
        "id": "OH1FO3vhToMH",
        "outputId": "3976597e-a695-4ca0-f914-6b116039b88d"
      },
      "source": [
        "w2g, w22.grad"
      ],
      "execution_count": 73,
      "outputs": [
        {
          "output_type": "execute_result",
          "data": {
            "text/plain": [
              "(tensor([[ 0.0160],\n",
              "         [ 3.1725],\n",
              "         [-0.0780],\n",
              "         [ 2.3847],\n",
              "         [-1.3138],\n",
              "         [-7.2877],\n",
              "         [ 0.0291],\n",
              "         [-0.9729],\n",
              "         [ 2.6821],\n",
              "         [ 1.9815],\n",
              "         [ 0.8676],\n",
              "         [-2.0644],\n",
              "         [-0.6822],\n",
              "         [-3.1738],\n",
              "         [-0.6303],\n",
              "         [-2.2340],\n",
              "         [ 3.6144],\n",
              "         [-2.9175],\n",
              "         [-3.8486],\n",
              "         [ 2.2971],\n",
              "         [ 0.5628],\n",
              "         [-0.5422],\n",
              "         [ 3.3900],\n",
              "         [-5.8169],\n",
              "         [-0.0593],\n",
              "         [-3.8683],\n",
              "         [ 1.2840],\n",
              "         [ 1.9721],\n",
              "         [-0.3568],\n",
              "         [-8.8591],\n",
              "         [ 1.5657],\n",
              "         [ 3.4140],\n",
              "         [-1.4701],\n",
              "         [-5.7629],\n",
              "         [-4.1701],\n",
              "         [ 3.2771],\n",
              "         [ 2.2940],\n",
              "         [ 3.0983],\n",
              "         [ 3.7652],\n",
              "         [-8.9139],\n",
              "         [-3.6991],\n",
              "         [ 1.4770],\n",
              "         [ 0.2276],\n",
              "         [ 3.3148],\n",
              "         [ 0.2902],\n",
              "         [ 3.5102],\n",
              "         [-1.3987],\n",
              "         [ 2.0827],\n",
              "         [ 1.6408],\n",
              "         [-1.1727]]), tensor([[ 0.0160],\n",
              "         [ 3.1725],\n",
              "         [-0.0780],\n",
              "         [ 2.3847],\n",
              "         [-1.3138],\n",
              "         [-7.2877],\n",
              "         [ 0.0291],\n",
              "         [-0.9729],\n",
              "         [ 2.6821],\n",
              "         [ 1.9815],\n",
              "         [ 0.8676],\n",
              "         [-2.0644],\n",
              "         [-0.6822],\n",
              "         [-3.1738],\n",
              "         [-0.6303],\n",
              "         [-2.2340],\n",
              "         [ 3.6144],\n",
              "         [-2.9175],\n",
              "         [-3.8485],\n",
              "         [ 2.2971],\n",
              "         [ 0.5628],\n",
              "         [-0.5422],\n",
              "         [ 3.3899],\n",
              "         [-5.8169],\n",
              "         [-0.0593],\n",
              "         [-3.8683],\n",
              "         [ 1.2840],\n",
              "         [ 1.9721],\n",
              "         [-0.3568],\n",
              "         [-8.8590],\n",
              "         [ 1.5657],\n",
              "         [ 3.4140],\n",
              "         [-1.4701],\n",
              "         [-5.7629],\n",
              "         [-4.1701],\n",
              "         [ 3.2771],\n",
              "         [ 2.2940],\n",
              "         [ 3.0984],\n",
              "         [ 3.7652],\n",
              "         [-8.9139],\n",
              "         [-3.6991],\n",
              "         [ 1.4770],\n",
              "         [ 0.2276],\n",
              "         [ 3.3148],\n",
              "         [ 0.2902],\n",
              "         [ 3.5102],\n",
              "         [-1.3987],\n",
              "         [ 2.0827],\n",
              "         [ 1.6408],\n",
              "         [-1.1727]]))"
            ]
          },
          "metadata": {
            "tags": []
          },
          "execution_count": 73
        }
      ]
    },
    {
      "cell_type": "markdown",
      "metadata": {
        "id": "GBS4ex4WUT5n"
      },
      "source": [
        "## Refactor everything\r\n",
        "\r\n",
        "Now that we've coded from scratch the essential pieces: matrix multiplication, kaiming initialization, activation (ReLU), loss (MSE), forward and backward pass, we can now refactor the code to make it usable.\r\n",
        "\r\n",
        "We can also now use PyTorch since we already know how the pieces work so it's not magical now."
      ]
    },
    {
      "cell_type": "code",
      "metadata": {
        "id": "2RqLutDDUWtv"
      },
      "source": [
        ""
      ],
      "execution_count": null,
      "outputs": []
    }
  ]
}