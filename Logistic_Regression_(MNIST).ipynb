{
  "nbformat": 4,
  "nbformat_minor": 0,
  "metadata": {
    "colab": {
      "name": "Logistic Regression (MNIST).ipynb",
      "provenance": [],
      "collapsed_sections": [],
      "authorship_tag": "ABX9TyNAwZC8gmz/Lo0biJqQ9Bum",
      "include_colab_link": true
    },
    "kernelspec": {
      "name": "python3",
      "display_name": "Python 3"
    },
    "accelerator": "GPU"
  },
  "cells": [
    {
      "cell_type": "markdown",
      "metadata": {
        "id": "view-in-github",
        "colab_type": "text"
      },
      "source": [
        "<a href=\"https://colab.research.google.com/github/danjohnvelasco/AI-Playground/blob/master/Logistic_Regression_(MNIST).ipynb\" target=\"_parent\"><img src=\"https://colab.research.google.com/assets/colab-badge.svg\" alt=\"Open In Colab\"/></a>"
      ]
    },
    {
      "cell_type": "markdown",
      "metadata": {
        "id": "iP3TK5E3L_V5",
        "colab_type": "text"
      },
      "source": [
        "# Logistic Regression\n",
        "\n",
        "Logistic regression is also known as a one-layer neural net which means it has no non-linearity at all. Yes, it's a linear model.\n",
        "\n",
        "Judging by the looks of a sigmoid function, it really doesn't look linear at all.\n",
        "\n",
        "But it turns out that it really is just a linear model.\n",
        "\n",
        "**I'll dig deeper into this later.**"
      ]
    },
    {
      "cell_type": "markdown",
      "metadata": {
        "id": "vRgIVB5kM9p3",
        "colab_type": "text"
      },
      "source": [
        "# Getting back to work:\n",
        "\n",
        "Read [this](https://sebastianraschka.com/faq/docs/logistic_regression_linear.html#:~:text=The%20short%20answer%20is%3A%20Logistic,of%20the%20inputs%20and%20parameters.&text=Logistic%20regression%20is%20an%20algorithm%20that%20learns%20a%20model%20for%20binary%20classification)"
      ]
    },
    {
      "cell_type": "code",
      "metadata": {
        "id": "PZLFh5iZDUB9",
        "colab_type": "code",
        "colab": {}
      },
      "source": [
        "%matplotlib inline\n",
        "from fastai.basics import *"
      ],
      "execution_count": null,
      "outputs": []
    },
    {
      "cell_type": "code",
      "metadata": {
        "id": "liO2N8IPDWiC",
        "colab_type": "code",
        "colab": {
          "base_uri": "https://localhost:8080/",
          "height": 141
        },
        "outputId": "fba51712-1216-4ebc-cb05-5b1d7b4742e1"
      },
      "source": [
        "# Mount Google Drive\n",
        "from google.colab import drive\n",
        "drive.mount('/content/gdrive')\n",
        "\n",
        "# Navigate to your directory\n",
        "%cd \"/content/gdrive/My Drive/datasets/MNIST/\""
      ],
      "execution_count": null,
      "outputs": [
        {
          "output_type": "stream",
          "text": [
            "Go to this URL in a browser: https://accounts.google.com/o/oauth2/auth?client_id=947318989803-6bn6qk8qdgf4n4g3pfee6491hc0brc4i.apps.googleusercontent.com&redirect_uri=urn%3aietf%3awg%3aoauth%3a2.0%3aoob&scope=email%20https%3a%2f%2fwww.googleapis.com%2fauth%2fdocs.test%20https%3a%2f%2fwww.googleapis.com%2fauth%2fdrive%20https%3a%2f%2fwww.googleapis.com%2fauth%2fdrive.photos.readonly%20https%3a%2f%2fwww.googleapis.com%2fauth%2fpeopleapi.readonly&response_type=code\n",
            "\n",
            "Enter your authorization code:\n",
            "··········\n",
            "Mounted at /content/gdrive\n",
            "/content/gdrive/My Drive/datasets/MNIST\n"
          ],
          "name": "stdout"
        }
      ]
    },
    {
      "cell_type": "code",
      "metadata": {
        "id": "ZtxJwMyuFqlB",
        "colab_type": "code",
        "colab": {}
      },
      "source": [
        "from pathlib import Path\n",
        "path = \"/content/gdrive/My Drive/datasets/MNIST/\"\n",
        "path = Path(path)"
      ],
      "execution_count": null,
      "outputs": []
    },
    {
      "cell_type": "code",
      "metadata": {
        "id": "6BQ5GlYnGT08",
        "colab_type": "code",
        "colab": {}
      },
      "source": [
        "with gzip.open(path/'mnist.pkl.gz', 'rb') as f:\n",
        "    ((x_train, y_train), (x_valid, y_valid), _) = pickle.load(f, encoding='latin-1')"
      ],
      "execution_count": null,
      "outputs": []
    },
    {
      "cell_type": "code",
      "metadata": {
        "id": "ddJY-LcfGYZB",
        "colab_type": "code",
        "colab": {
          "base_uri": "https://localhost:8080/",
          "height": 282
        },
        "outputId": "a3eee8fb-1650-4eef-ad9f-49ba850f65d1"
      },
      "source": [
        "plt.imshow(x_train[0].reshape((28,28)), cmap=\"gray\")\n",
        "x_train.shape"
      ],
      "execution_count": null,
      "outputs": [
        {
          "output_type": "execute_result",
          "data": {
            "text/plain": [
              "(50000, 784)"
            ]
          },
          "metadata": {
            "tags": []
          },
          "execution_count": 60
        },
        {
          "output_type": "display_data",
          "data": {
            "image/png": "[encoded data removed]",
            "text/plain": [
              "<Figure size 432x288 with 1 Axes>"
            ]
          },
          "metadata": {
            "tags": [],
            "needs_background": "light"
          }
        }
      ]
    },
    {
      "cell_type": "code",
      "metadata": {
        "id": "K8iEY_DSmKbm",
        "colab_type": "code",
        "colab": {
          "base_uri": "https://localhost:8080/",
          "height": 35
        },
        "outputId": "38a03460-2ad3-4c9e-8677-ea1bc5ead894"
      },
      "source": [
        "# Convert to tensors\n",
        "x_train,y_train,x_valid,y_valid = map(torch.tensor, (x_train,y_train,x_valid,y_valid))\n",
        "n,c = x_train.shape # n == number of samples, c == columns/features\n",
        "x_train.shape, y_train.min(), y_train.max()"
      ],
      "execution_count": null,
      "outputs": [
        {
          "output_type": "execute_result",
          "data": {
            "text/plain": [
              "(torch.Size([50000, 784]), tensor(0), tensor(9))"
            ]
          },
          "metadata": {
            "tags": []
          },
          "execution_count": 6
        }
      ]
    },
    {
      "cell_type": "code",
      "metadata": {
        "id": "noJg44DhmT6_",
        "colab_type": "code",
        "colab": {}
      },
      "source": [
        "# Create PyTorch dataset\n",
        "bs=64 # batch size\n",
        "train_ds = TensorDataset(x_train, y_train)\n",
        "valid_ds = TensorDataset(x_valid, y_valid) # PyTorch function\n",
        "data = DataBunch.create(train_ds, valid_ds, bs=bs) # fastai function"
      ],
      "execution_count": null,
      "outputs": []
    },
    {
      "cell_type": "markdown",
      "metadata": {
        "id": "6VytZz9BnAiM",
        "colab_type": "text"
      },
      "source": [
        "Remember a dataset is something where if you index into it, you get back an x value and a y value - just one of them.\n",
        "\n",
        "TensorDataset[i] returns a tuple which contains the data.\n",
        "\n",
        "DataBunch is a class which creates a dataloader inside. It's just a convenience function to make sure that the data is shuffled, goes into GPU, etc. \n",
        "\n",
        "A dataloader is something that you just call \"next\" to return the x,y of a minibatch.\n",
        "\n",
        "Functions used:\n",
        "- iter() - python built-in which returns an iterator\n",
        "- next(iterator) - python built0in which returns the next item from the iterator"
      ]
    },
    {
      "cell_type": "code",
      "metadata": {
        "id": "opLQlrxzml_g",
        "colab_type": "code",
        "colab": {}
      },
      "source": [
        "# 784 values == flattened 28 x 28 pixel values\n",
        "train_ds[0][0], train_ds[0][0].shape"
      ],
      "execution_count": null,
      "outputs": []
    },
    {
      "cell_type": "code",
      "metadata": {
        "id": "X2-jwirhmkqN",
        "colab_type": "code",
        "colab": {
          "base_uri": "https://localhost:8080/",
          "height": 35
        },
        "outputId": "a26b8ebd-29c3-40e6-c2b0-fadd10e887b8"
      },
      "source": [
        "# Get minibatch of size 64\n",
        "x,y = next(iter(data.train_dl))\n",
        "x.shape,y.shape # Returns (batchsize, flattened 28 x 28), (# of output)"
      ],
      "execution_count": null,
      "outputs": [
        {
          "output_type": "execute_result",
          "data": {
            "text/plain": [
              "(torch.Size([64, 784]), torch.Size([64]))"
            ]
          },
          "metadata": {
            "tags": []
          },
          "execution_count": 78
        }
      ]
    },
    {
      "cell_type": "code",
      "metadata": {
        "id": "474OPAKVnnbM",
        "colab_type": "code",
        "colab": {}
      },
      "source": [
        "# Create own model\n",
        "class Mnist_Logistic(nn.Module):\n",
        "    def __init__(self):\n",
        "        super().__init__()\n",
        "        # PyTorch modules acts like a function e.g. self.lin(xb)\n",
        "        self.lin = nn.Linear(784, 10, bias=True)\n",
        "\n",
        "    # xb is a minibatch of x\n",
        "    def forward(self, xb): return self.lin(xb)"
      ],
      "execution_count": null,
      "outputs": []
    },
    {
      "cell_type": "code",
      "metadata": {
        "id": "wigpWM-UorQR",
        "colab_type": "code",
        "colab": {}
      },
      "source": [
        "# Manually set the model to use the GPU\n",
        "model = Mnist_Logistic().cuda()"
      ],
      "execution_count": null,
      "outputs": []
    },
    {
      "cell_type": "code",
      "metadata": {
        "id": "Elwus6k4ousf",
        "colab_type": "code",
        "colab": {
          "base_uri": "https://localhost:8080/",
          "height": 69
        },
        "outputId": "773cdc70-14d8-4ce0-d896-184e64ab2b59"
      },
      "source": [
        "model"
      ],
      "execution_count": null,
      "outputs": [
        {
          "output_type": "execute_result",
          "data": {
            "text/plain": [
              "Mnist_Logistic(\n",
              "  (lin): Linear(in_features=784, out_features=10, bias=True)\n",
              ")"
            ]
          },
          "metadata": {
            "tags": []
          },
          "execution_count": 11
        }
      ]
    },
    {
      "cell_type": "code",
      "metadata": {
        "id": "36f5T7qYpF6V",
        "colab_type": "code",
        "colab": {
          "base_uri": "https://localhost:8080/",
          "height": 35
        },
        "outputId": "ce6c46fc-c555-4ebb-a632-999f85567632"
      },
      "source": [
        "[p.shape for p in model.parameters()]"
      ],
      "execution_count": null,
      "outputs": [
        {
          "output_type": "execute_result",
          "data": {
            "text/plain": [
              "[torch.Size([10, 784]), torch.Size([10])]"
            ]
          },
          "metadata": {
            "tags": []
          },
          "execution_count": 35
        }
      ]
    },
    {
      "cell_type": "code",
      "metadata": {
        "id": "ynVFHVzYwn8h",
        "colab_type": "code",
        "colab": {}
      },
      "source": [
        "loss_func = nn.CrossEntropyLoss()"
      ],
      "execution_count": null,
      "outputs": []
    },
    {
      "cell_type": "code",
      "metadata": {
        "id": "SlsMFjCnwpbI",
        "colab_type": "code",
        "colab": {}
      },
      "source": [
        "def update(x,y,lr):\n",
        "    wd = 1e-5\n",
        "    y_hat = model(x)\n",
        "    # weight decay\n",
        "    w2 = 0.\n",
        "    for p in model.parameters(): w2 += (p**2).sum()\n",
        "    # add to regular loss\n",
        "    loss = loss_func(y_hat, y) + w2*wd\n",
        "    loss.backward()\n",
        "    with torch.no_grad():\n",
        "        for p in model.parameters():\n",
        "            p.sub_(lr * p.grad)\n",
        "            p.grad.zero_()\n",
        "    return loss.item()"
      ],
      "execution_count": null,
      "outputs": []
    },
    {
      "cell_type": "code",
      "metadata": {
        "id": "YYMiD3s0wrZu",
        "colab_type": "code",
        "colab": {
          "base_uri": "https://localhost:8080/",
          "height": 282
        },
        "outputId": "93b32f93-721b-4ec2-ff34-e9a6a1d8c249"
      },
      "source": [
        "lr = 2e-2\n",
        "losses = [update(x,y,lr) for x,y in data.train_dl]\n",
        "plt.plot(losses)"
      ],
      "execution_count": null,
      "outputs": [
        {
          "output_type": "execute_result",
          "data": {
            "text/plain": [
              "[<matplotlib.lines.Line2D at 0x7f0e56c8a3c8>]"
            ]
          },
          "metadata": {
            "tags": []
          },
          "execution_count": 40
        },
        {
          "output_type": "display_data",
          "data": {
            "image/png": "[encoded data removed]",
            "text/plain": [
              "<Figure size 432x288 with 1 Axes>"
            ]
          },
          "metadata": {
            "tags": [],
            "needs_background": "light"
          }
        }
      ]
    }
  ]
}