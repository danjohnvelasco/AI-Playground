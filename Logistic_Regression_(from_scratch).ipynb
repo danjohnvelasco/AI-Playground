{
  "nbformat": 4,
  "nbformat_minor": 0,
  "metadata": {
    "colab": {
      "name": "Logistic Regression (from scratch).ipynb",
      "provenance": [],
      "collapsed_sections": [],
      "toc_visible": true,
      "authorship_tag": "ABX9TyPpDofkE6KvdGtc+Cu3ldqV",
      "include_colab_link": true
    },
    "kernelspec": {
      "name": "python3",
      "display_name": "Python 3"
    }
  },
  "cells": [
    {
      "cell_type": "markdown",
      "metadata": {
        "id": "view-in-github",
        "colab_type": "text"
      },
      "source": [
        "<a href=\"https://colab.research.google.com/github/danjohnvelasco/AI-Sandbox/blob/master/Logistic_Regression_(from_scratch).ipynb\" target=\"_parent\"><img src=\"https://colab.research.google.com/assets/colab-badge.svg\" alt=\"Open In Colab\"/></a>"
      ]
    },
    {
      "cell_type": "markdown",
      "metadata": {
        "id": "KPOMIaPPEau4"
      },
      "source": [
        "# Logistic Regression\r\n",
        "\r\n",
        "A one layer neural network for binary classification of images (Cat or Not Cat?)\r\n",
        "\r\n",
        "## Steps\r\n",
        "1. Get Data\r\n",
        "2. Preprocess Data\r\n",
        "3. Forward Pass\r\n",
        "4. Backward Pass\r\n",
        "5. Optimizer (Gradient Descent)\r\n",
        "6. Training Func\r\n",
        "7. Predict Func\r\n",
        "8. Plot losses\r\n",
        "9. Refactor"
      ]
    },
    {
      "cell_type": "code",
      "metadata": {
        "id": "zcTjqTXtD64M"
      },
      "source": [
        "import numpy as np\r\n",
        "import matplotlib.pyplot as plt\r\n",
        "import h5py\r\n",
        "\r\n",
        "%matplotlib inline"
      ],
      "execution_count": 5,
      "outputs": []
    },
    {
      "cell_type": "markdown",
      "metadata": {
        "id": "RaaUygTRIQ9w"
      },
      "source": [
        "## Get Data"
      ]
    },
    {
      "cell_type": "code",
      "metadata": {
        "id": "GVCTCjH9E_i5"
      },
      "source": [
        "!gdown --id 1Fl58wAcIPtGt5-3MzOr0zvXZDL-3WRQi\r\n",
        "!mkdir datasets\r\n",
        "!unzip catvnoncat.zip -d datasets"
      ],
      "execution_count": null,
      "outputs": []
    },
    {
      "cell_type": "code",
      "metadata": {
        "id": "7I63BXmr6qOb"
      },
      "source": [
        "def load_dataset():\r\n",
        "    train_dataset = h5py.File('datasets/train_catvnoncat.h5', \"r\")\r\n",
        "    train_set_x_orig = np.array(train_dataset[\"train_set_x\"][:]) # your train set features\r\n",
        "    train_set_y_orig = np.array(train_dataset[\"train_set_y\"][:]) # your train set labels\r\n",
        "\r\n",
        "    test_dataset = h5py.File('datasets/test_catvnoncat.h5', \"r\")\r\n",
        "    test_set_x_orig = np.array(test_dataset[\"test_set_x\"][:]) # your test set features\r\n",
        "    test_set_y_orig = np.array(test_dataset[\"test_set_y\"][:]) # your test set labels\r\n",
        "\r\n",
        "    classes = np.array(test_dataset[\"list_classes\"][:]) # the list of classes\r\n",
        "    \r\n",
        "    train_set_y_orig = train_set_y_orig.reshape((1, train_set_y_orig.shape[0]))\r\n",
        "    test_set_y_orig = test_set_y_orig.reshape((1, test_set_y_orig.shape[0]))\r\n",
        "    \r\n",
        "    return train_set_x_orig, train_set_y_orig, test_set_x_orig, test_set_y_orig, classes"
      ],
      "execution_count": 39,
      "outputs": []
    },
    {
      "cell_type": "code",
      "metadata": {
        "id": "-s5XUCq96vFE"
      },
      "source": [
        "# Loading the data (cat/non-cat)\r\n",
        "train_set_x_orig, train_set_y, test_set_x_orig, test_set_y, classes = load_dataset()"
      ],
      "execution_count": 40,
      "outputs": []
    },
    {
      "cell_type": "code",
      "metadata": {
        "id": "v-GmG-A1G0Kr",
        "colab": {
          "base_uri": "https://localhost:8080/",
          "height": 285
        },
        "outputId": "54573c69-e4e2-4629-bd64-69f15ccf37b3"
      },
      "source": [
        "# Example of a picture\r\n",
        "index = 2\r\n",
        "plt.imshow(train_set_x_orig[index])\r\n",
        "print (\"y = \" + str(train_set_y[:, index]) + \", it's a '\" + classes[np.squeeze(train_set_y[:, index])].decode(\"utf-8\") +  \"' picture.\")"
      ],
      "execution_count": 41,
      "outputs": [
        {
          "output_type": "stream",
          "text": [
            "y = [1], it's a 'cat' picture.\n"
          ],
          "name": "stdout"
        },
        {
          "output_type": "display_data",
          "data": {
            "image/png": "[encoded data removed]",
            "text/plain": [
              "<Figure size 432x288 with 1 Axes>"
            ]
          },
          "metadata": {
            "tags": [],
            "needs_background": "light"
          }
        }
      ]
    },
    {
      "cell_type": "code",
      "metadata": {
        "colab": {
          "base_uri": "https://localhost:8080/"
        },
        "id": "CBh1f9tUG3HX",
        "outputId": "2eba7fcd-99b1-442a-c9b9-a72057e70968"
      },
      "source": [
        "m_train = train_set_x_orig.shape[0]\r\n",
        "m_test = test_set_x_orig.shape[0]\r\n",
        "num_px = train_set_x_orig.shape[1]\r\n",
        "\r\n",
        "print (\"Number of training examples: m_train = \" + str(m_train))\r\n",
        "print (\"Number of testing examples: m_test = \" + str(m_test))\r\n",
        "print (\"Height/Width of each image: num_px = \" + str(num_px))\r\n",
        "print (\"Each image is of size: (\" + str(num_px) + \", \" + str(num_px) + \", 3)\")\r\n",
        "print (\"train_set_x shape: \" + str(train_set_x_orig.shape))\r\n",
        "print (\"train_set_y shape: \" + str(train_set_y.shape))\r\n",
        "print (\"test_set_x shape: \" + str(test_set_x_orig.shape))\r\n",
        "print (\"test_set_y shape: \" + str(test_set_y.shape))"
      ],
      "execution_count": 42,
      "outputs": [
        {
          "output_type": "stream",
          "text": [
            "Number of training examples: m_train = 209\n",
            "Number of testing examples: m_test = 50\n",
            "Height/Width of each image: num_px = 64\n",
            "Each image is of size: (64, 64, 3)\n",
            "train_set_x shape: (209, 64, 64, 3)\n",
            "train_set_y shape: (1, 209)\n",
            "test_set_x shape: (50, 64, 64, 3)\n",
            "test_set_y shape: (1, 50)\n"
          ],
          "name": "stdout"
        }
      ]
    },
    {
      "cell_type": "markdown",
      "metadata": {
        "id": "EbuenMkWIXqo"
      },
      "source": [
        "## Preprocess Data"
      ]
    },
    {
      "cell_type": "code",
      "metadata": {
        "id": "Gf7U0MGYH_1h"
      },
      "source": [
        "def tfms_flatten(X):\r\n",
        "    '''\r\n",
        "    Returns a flattened (row vector) image.\r\n",
        "    Transforms n-dimensional numpy array into a row vector (n, n_instances)\r\n",
        "\r\n",
        "    Inputs:\r\n",
        "    - X: An n-dimensional numpy array\r\n",
        "\r\n",
        "    Returns:\r\n",
        "    - A numpy array of shape (n, n_instances). Where n_instances is the number of\r\n",
        "      images in a dataset and n is the number of dimensions.\r\n",
        "    '''\r\n",
        "    return np.reshape(X, (X.shape[0], -1)).T\r\n",
        "\r\n",
        "def standardize_img(X):\r\n",
        "    '''\r\n",
        "    Returns the standardized version of the input.\r\n",
        "\r\n",
        "    Rescales the image data by from 0-255 to 0-1 dividing each element of X\r\n",
        "    by max pixel value (255).\r\n",
        "\r\n",
        "    Inputs:\r\n",
        "    - X: An n-dimensional numpy array\r\n",
        "\r\n",
        "    Returns:\r\n",
        "    - A standardized image data\r\n",
        "    '''\r\n",
        "    return X/255"
      ],
      "execution_count": 43,
      "outputs": []
    },
    {
      "cell_type": "code",
      "metadata": {
        "colab": {
          "base_uri": "https://localhost:8080/"
        },
        "id": "xJl5WklSJU3o",
        "outputId": "e85292ee-2bb0-4e63-f8a3-7f1b5d379384"
      },
      "source": [
        "# Flatten image\r\n",
        "X_train_flatten = tfms_flatten(train_set_x_orig)\r\n",
        "X_test_flatten = tfms_flatten(test_set_x_orig)\r\n",
        "\r\n",
        "# Tests\r\n",
        "# ensures that the data is a subset\r\n",
        "assert(X_train_flatten.shape == (12288, 209))\r\n",
        "assert(X_test_flatten.shape == (12288, 50))\r\n",
        "\r\n",
        "\r\n",
        "print(X_train_flatten.shape, X_test_flatten.shape)"
      ],
      "execution_count": 44,
      "outputs": [
        {
          "output_type": "stream",
          "text": [
            "(12288, 209) (12288, 50)\n"
          ],
          "name": "stdout"
        }
      ]
    },
    {
      "cell_type": "code",
      "metadata": {
        "colab": {
          "base_uri": "https://localhost:8080/"
        },
        "id": "blkFECRUJczk",
        "outputId": "a5977b99-7caf-4640-f18e-bb2a32725ad7"
      },
      "source": [
        "# Standardize\r\n",
        "X_train = standardize_img(X_train_flatten)\r\n",
        "X_test = standardize_img(X_test_flatten)\r\n",
        "\r\n",
        "print(X_train.shape, X_test.shape)"
      ],
      "execution_count": 45,
      "outputs": [
        {
          "output_type": "stream",
          "text": [
            "(12288, 209) (12288, 50)\n"
          ],
          "name": "stdout"
        }
      ]
    },
    {
      "cell_type": "markdown",
      "metadata": {
        "id": "ctfZ8tbUPAVp"
      },
      "source": [
        "## Forward Pass and Backward Pass"
      ]
    },
    {
      "cell_type": "code",
      "metadata": {
        "id": "cqEdSHQfRX1j"
      },
      "source": [
        "def zero_init(n_dim):\r\n",
        "    '''\r\n",
        "    Returns an ndarray of size (n_dim, 1) and a scalar.\r\n",
        "\r\n",
        "    Initialize weights and bias term.\r\n",
        "\r\n",
        "    Input:\r\n",
        "    - n_dim : int\r\n",
        "        Number of dimensions\r\n",
        "    Returns:\r\n",
        "    - w : ndarray\r\n",
        "        An ndarray of zeroes\r\n",
        "    - b : ndarray\r\n",
        "        A zero scalar\r\n",
        "    '''\r\n",
        "    w = np.zeros((n_dim, 1))\r\n",
        "    b = 0\r\n",
        "\r\n",
        "    return w, b"
      ],
      "execution_count": 46,
      "outputs": []
    },
    {
      "cell_type": "code",
      "metadata": {
        "id": "5OkXL2i4TWcI"
      },
      "source": [
        "def random_init(n_dim):\r\n",
        "    '''\r\n",
        "    Returns an ndarray of size (n_dim, 1) with random values \r\n",
        "    and a scalar of random value.\r\n",
        "\r\n",
        "    Initialize weights and bias with random values.\r\n",
        "\r\n",
        "    Input:\r\n",
        "    - n_dim : int\r\n",
        "        Number of dimensions\r\n",
        "\r\n",
        "    Returns:\r\n",
        "    - w : ndarray\r\n",
        "        An ndarray of random values\r\n",
        "    - b : ndarray\r\n",
        "        A scalar with random value\r\n",
        "    '''\r\n",
        "    w = np.random.rand(n_dim,1)\r\n",
        "    b = np.random.rand(1,)[0] # scalar\r\n",
        "\r\n",
        "    return w, b"
      ],
      "execution_count": 47,
      "outputs": []
    },
    {
      "cell_type": "code",
      "metadata": {
        "id": "ZQOfwc_wQmeT"
      },
      "source": [
        "def sigmoid(z):\r\n",
        "    '''\r\n",
        "    Returns an ndarray with the sigmoids of the input.\r\n",
        "    '''\r\n",
        "    return 1/(1+np.exp(-1*z))"
      ],
      "execution_count": 48,
      "outputs": []
    },
    {
      "cell_type": "code",
      "metadata": {
        "id": "gVU7ZiE8n_Bl"
      },
      "source": [
        "def loss(y, y_pred):\r\n",
        "    y = y.reshape(1, y.shape[1]) # ensure shape (1, y_instances)\r\n",
        "    y_1 =  y * np.log(y_pred) # if y == 1\r\n",
        "    y_0 = (1-y) * np.log(1 - y_pred) # if y == 0\r\n",
        "    cost = np.sum(y_1 + y_0)/(-1 * y_pred.shape[1])\r\n",
        "    return cost"
      ],
      "execution_count": 63,
      "outputs": []
    },
    {
      "cell_type": "code",
      "metadata": {
        "id": "JKo3-uLjOXuu"
      },
      "source": [
        "def forward_backward_pass(w, b, X, y):\r\n",
        "    '''\r\n",
        "    Returns weights, biases, and respective gradients with respect to \r\n",
        "    some loss function.\r\n",
        "\r\n",
        "    Forward pass: calculates sigmoid(z) to get predictions and get cost\r\n",
        "    Backward pass: calculate gradients of w and b with respect to cost\r\n",
        "\r\n",
        "    Inputs:\r\n",
        "    - w : ndarray\r\n",
        "        weights of size (n, 1) where n is the number of dimensions\r\n",
        "    - b : scalar\r\n",
        "        bias term\r\n",
        "    - X: ndarray (3072, n)\r\n",
        "        Training data\r\n",
        "    - y: ndarray (1, n)\r\n",
        "        Training labels\r\n",
        "    \r\n",
        "    Returns: (ARE YOU SURE?)\r\n",
        "    - grads : dict\r\n",
        "        A dictionary of gradients\r\n",
        "    - cost: numpy.float64\r\n",
        "        A float that represents the overall cost over the whole training data\r\n",
        "    '''\r\n",
        "    # Forward Pass\r\n",
        "    # Layer 1\r\n",
        "    i_h = np.dot(w.T, X) + b # input to hidden (1, n)\r\n",
        "    # Activation\r\n",
        "    h_o = sigmoid(i_h) # hidden to output (1, n)\r\n",
        "\r\n",
        "\r\n",
        "    # Loss\r\n",
        "    cost = loss(y, h_o)\r\n",
        "\r\n",
        "    # Backward Pass\r\n",
        "    m = X.shape[1] # n\r\n",
        "    dw = (np.dot(X, (h_o - y).T))/m\r\n",
        "    db = np.sum((h_o - y)/m).reshape(1,1)\r\n",
        "    \r\n",
        "    # Tests\r\n",
        "    assert(dw.shape == w.shape)\r\n",
        "    assert(db.dtype == float)\r\n",
        "    assert(cost.shape == ())\r\n",
        "\r\n",
        "    grads = {\"dw\": dw,\r\n",
        "             \"db\": db}\r\n",
        "\r\n",
        "\r\n",
        "    return grads, cost"
      ],
      "execution_count": 64,
      "outputs": []
    },
    {
      "cell_type": "markdown",
      "metadata": {
        "id": "Tm7lMlko7LEv"
      },
      "source": [
        "### Test"
      ]
    },
    {
      "cell_type": "code",
      "metadata": {
        "id": "kecIfhwvRWPH"
      },
      "source": [
        "# Initialize parameters\r\n",
        "n_dim = X_train.shape[0]\r\n",
        "w, b = zero_init(n_dim)\r\n",
        "\r\n",
        "# Tests\r\n",
        "assert(w.shape == (12288, 1))\r\n",
        "assert(np.isscalar(b))"
      ],
      "execution_count": 65,
      "outputs": []
    },
    {
      "cell_type": "code",
      "metadata": {
        "colab": {
          "base_uri": "https://localhost:8080/"
        },
        "id": "f-4UsjReSmbO",
        "outputId": "e2b99026-b129-48ee-9a45-adf82149cd4e"
      },
      "source": [
        "# Batch Gradient Descent\r\n",
        "# Uses the whole dataset to take 1 step of gradient descent\r\n",
        "\r\n",
        "grads1 = {}\r\n",
        "cost = 0\r\n",
        "\r\n",
        "# Initialize parameters\r\n",
        "n_dim = X_train.shape[0] \r\n",
        "w, b = zero_init(n_dim)\r\n",
        "\r\n",
        "# Set hyperparemeter\r\n",
        "learning_rate = 0.005\r\n",
        "num_iterations = 1\r\n",
        "\r\n",
        "for i in range(num_iterations):\r\n",
        "    grads1, cost = forward_backward_pass(w, b, X_train, train_set_y)\r\n",
        "\r\n",
        "    w = w - learning_rate * grads[\"dw\"]\r\n",
        "    b = b - learning_rate * grads[\"db\"]\r\n",
        "\r\n",
        "    if i % 10 == 0:\r\n",
        "        print(f\"Iteration {i+1}: {cost}\")\r\n",
        "        print(w)\r\n",
        "        print(b)"
      ],
      "execution_count": 87,
      "outputs": [
        {
          "output_type": "stream",
          "text": [
            "Iteration 1: 0.6931471805599453\n",
            "[[-0.00023604]\n",
            " [-0.00031499]\n",
            " [-0.00024618]\n",
            " ...\n",
            " [-0.00025373]\n",
            " [-0.00031063]\n",
            " [-0.00016226]]\n",
            "[[-0.00077751]]\n"
          ],
          "name": "stdout"
        }
      ]
    },
    {
      "cell_type": "code",
      "metadata": {
        "colab": {
          "base_uri": "https://localhost:8080/"
        },
        "id": "ZQt0PHFj7oC_",
        "outputId": "967ad991-8a70-40ed-d476-b9ca74af3c42"
      },
      "source": [
        "grads1"
      ],
      "execution_count": 110,
      "outputs": [
        {
          "output_type": "execute_result",
          "data": {
            "text/plain": [
              "{'db': array([[0.15550239]]), 'dw': array([[0.04720893],\n",
              "        [0.06299841],\n",
              "        [0.04923539],\n",
              "        ...,\n",
              "        [0.05074585],\n",
              "        [0.0621259 ],\n",
              "        [0.03245145]])}"
            ]
          },
          "metadata": {
            "tags": []
          },
          "execution_count": 110
        }
      ]
    },
    {
      "cell_type": "markdown",
      "metadata": {
        "id": "iuZB9ftO7Urn"
      },
      "source": [
        "## Optimizer"
      ]
    },
    {
      "cell_type": "code",
      "metadata": {
        "id": "r5NuHNh87aJt"
      },
      "source": [
        "def optimizer(w, b, X, Y, n_iter=10, lr=5e-3):\r\n",
        "\r\n",
        "    # Track loss values\r\n",
        "    costs = []\r\n",
        "\r\n",
        "    params = {\"w\": w,\r\n",
        "              \"b\": b}\r\n",
        "\r\n",
        "    for i in range(n_iter):\r\n",
        "        \r\n",
        "        grads, cost = forward_backward_pass(w, b, X, Y)\r\n",
        "\r\n",
        "        params[\"w\"] -= learning_rate * grads[\"dw\"]\r\n",
        "        params[\"b\"] -= learning_rate * grads[\"db\"]\r\n",
        "\r\n",
        "        # Store loss\r\n",
        "        costs.append(cost)\r\n",
        "\r\n",
        "        if i % 100 == 0:\r\n",
        "            print(f\"Iteration {i+1} - Cost: {cost}\")\r\n",
        "\r\n",
        "    return params, grads, costs"
      ],
      "execution_count": 162,
      "outputs": []
    },
    {
      "cell_type": "markdown",
      "metadata": {
        "id": "X_KWvIXz-UA4"
      },
      "source": [
        "### Test"
      ]
    },
    {
      "cell_type": "code",
      "metadata": {
        "id": "P1t-bHKp-KDe"
      },
      "source": [
        "# Initialize parameters\r\n",
        "n_dim = X_train.shape[0]\r\n",
        "w, b = zero_init(n_dim)\r\n",
        "\r\n",
        "# Tests\r\n",
        "assert(w.shape == (12288, 1))\r\n",
        "assert(np.isscalar(b))"
      ],
      "execution_count": 115,
      "outputs": []
    },
    {
      "cell_type": "code",
      "metadata": {
        "colab": {
          "base_uri": "https://localhost:8080/"
        },
        "id": "upnP6DSv-YGj",
        "outputId": "86b4ae26-4f60-4d0e-a449-910bd7a06cc7"
      },
      "source": [
        "params, grads, costs = optimizer(w, b, X_train, train_set_y, n_iter=1, lr=5e-3)\r\n",
        "grads"
      ],
      "execution_count": 124,
      "outputs": [
        {
          "output_type": "stream",
          "text": [
            "Iteration 1 - Cost: 0.7339212123507648\n"
          ],
          "name": "stdout"
        },
        {
          "output_type": "execute_result",
          "data": {
            "text/plain": [
              "{'db': array([[0.25337312]]), 'dw': array([[0.09488986],\n",
              "        [0.11009616],\n",
              "        [0.09409703],\n",
              "        ...,\n",
              "        [0.0920804 ],\n",
              "        [0.10202084],\n",
              "        [0.06855663]])}"
            ]
          },
          "metadata": {
            "tags": []
          },
          "execution_count": 124
        }
      ]
    },
    {
      "cell_type": "code",
      "metadata": {
        "colab": {
          "base_uri": "https://localhost:8080/"
        },
        "id": "TzMR1N3OBgeh",
        "outputId": "15e347e2-634b-40b5-f315-b4d9570e6aac"
      },
      "source": [
        "costs"
      ],
      "execution_count": 125,
      "outputs": [
        {
          "output_type": "execute_result",
          "data": {
            "text/plain": [
              "[0.7339212123507648]"
            ]
          },
          "metadata": {
            "tags": []
          },
          "execution_count": 125
        }
      ]
    },
    {
      "cell_type": "markdown",
      "metadata": {
        "id": "siAzffHe_Tl1"
      },
      "source": [
        "# Predict"
      ]
    },
    {
      "cell_type": "code",
      "metadata": {
        "id": "0vioCAO8_Vr1"
      },
      "source": [
        "def predict(w, b, X):\r\n",
        "    y_pred = np.zeros((1, X.shape[1]))\r\n",
        "\r\n",
        "    # Forward Pass\r\n",
        "    # Layer 1\r\n",
        "    i_h = np.dot(w.T, X) + b # input to hidden (1, n)\r\n",
        "    # Activation\r\n",
        "    h_o = sigmoid(i_h) # hidden to output (1, n)\r\n",
        "\r\n",
        "    # Loop over each item in dataset (columns-wise)\r\n",
        "    # Convert probabilities to labels using thresholds\r\n",
        "    for i in range(X.shape[1]):\r\n",
        "        if (h_o[0,i] > 0.5):\r\n",
        "            y_pred[0,i] = 1\r\n",
        "        else:\r\n",
        "            y_pred[0,i] = 0\r\n",
        "        \r\n",
        "    return y_pred"
      ],
      "execution_count": 132,
      "outputs": []
    },
    {
      "cell_type": "markdown",
      "metadata": {
        "id": "K90gh4dUAF1C"
      },
      "source": [
        "# Refactor, combine everything in one Model class"
      ]
    },
    {
      "cell_type": "code",
      "metadata": {
        "id": "7T9X3jHaACL3"
      },
      "source": [
        "def model(X_train, Y_train, X_test, Y_test, n_iter=1, lr=5e-3, verbose=False):\r\n",
        "    # Initialize parameters\r\n",
        "    n_dim = X_train.shape[0]\r\n",
        "    w, b = zero_init(n_dim)\r\n",
        "\r\n",
        "    # Propagate\r\n",
        "    params, grads, costs = optimizer(w, b, X_train, Y_train, n_iter, lr)\r\n",
        "\r\n",
        "    # Retrieve parameters w and b from dictionary \"parameters\"\r\n",
        "    w = params[\"w\"]\r\n",
        "    b = params[\"b\"]\r\n",
        "    \r\n",
        "    # Predict test/train set examples (≈ 2 lines of code)\r\n",
        "    Y_prediction_test = predict(w, b, X_test)\r\n",
        "    Y_prediction_train = predict(w, b, X_train)\r\n",
        "\r\n",
        "    # Print train/test Errors\r\n",
        "    print(\"train accuracy: {} %\".format(100 - np.mean(np.abs(Y_prediction_train - Y_train)) * 100))\r\n",
        "    print(\"test accuracy: {} %\".format(100 - np.mean(np.abs(Y_prediction_test - Y_test)) * 100))\r\n",
        "\r\n",
        "    \r\n",
        "    res = {\"costs\": costs,\r\n",
        "         \"Y_prediction_test\": Y_prediction_test, \r\n",
        "         \"Y_prediction_train\" : Y_prediction_train, \r\n",
        "         \"w\" : w, \r\n",
        "         \"b\" : b,\r\n",
        "         \"learning_rate\" : learning_rate,\r\n",
        "         \"num_iterations\": num_iterations}\r\n",
        "    \r\n",
        "    print(grads)\r\n",
        "\r\n",
        "    return res"
      ],
      "execution_count": 158,
      "outputs": []
    },
    {
      "cell_type": "code",
      "metadata": {
        "colab": {
          "base_uri": "https://localhost:8080/"
        },
        "id": "1_-75GBbCNkn",
        "outputId": "b6d3a6d6-b9a6-4253-f1b9-cdde2d5e3bc3"
      },
      "source": [
        "res = model(X_train, train_set_y, X_test, test_set_y, n_iter = 1, lr = 5e-3)"
      ],
      "execution_count": 156,
      "outputs": [
        {
          "output_type": "stream",
          "text": [
            "Iteration 1 - Cost: 0.6931471805599453\n",
            "[0.6931471805599453]\n",
            "train accuracy: 65.55023923444976 %\n",
            "test accuracy: 34.0 %\n",
            "{'dw': array([[0.04720893],\n",
            "       [0.06299841],\n",
            "       [0.04923539],\n",
            "       ...,\n",
            "       [0.05074585],\n",
            "       [0.0621259 ],\n",
            "       [0.03245145]]), 'db': array([[0.15550239]])}\n"
          ],
          "name": "stdout"
        }
      ]
    },
    {
      "cell_type": "markdown",
      "metadata": {
        "id": "rBN1rZAUC9EO"
      },
      "source": [
        "You should see\r\n",
        "\r\n",
        "```\r\n",
        "Iteration 1 - Cost: 0.693147\r\n",
        "train accuracy: 65.55023923444976 %\r\n",
        "test accuracy: 34.0 %\r\n",
        "{'dw': array([[ 0.04720893],\r\n",
        "       [ 0.06299841],\r\n",
        "       [ 0.04923539],\r\n",
        "       ..., \r\n",
        "       [ 0.05074585],\r\n",
        "       [ 0.0621259 ],\r\n",
        "       [ 0.03245145]]), 'db': array([[ 0.15550239]])}\r\n",
        "```\r\n",
        "\r\n"
      ]
    },
    {
      "cell_type": "code",
      "metadata": {
        "colab": {
          "base_uri": "https://localhost:8080/"
        },
        "id": "tyqiNRdYFBFE",
        "outputId": "490d0a42-5c2a-4024-bd17-e18c05f5a40b"
      },
      "source": [
        "res = model(X_train, train_set_y, X_test, test_set_y, n_iter = 2000, lr = 5e-3)"
      ],
      "execution_count": 163,
      "outputs": [
        {
          "output_type": "stream",
          "text": [
            "Iteration 1 - Cost: 0.6931471805599453\n",
            "Iteration 101 - Cost: 0.5842388869739894\n",
            "Iteration 201 - Cost: 0.46664985220250477\n",
            "Iteration 301 - Cost: 0.37581634839843925\n",
            "Iteration 401 - Cost: 0.3314999137598888\n",
            "Iteration 501 - Cost: 0.30329811755127145\n",
            "Iteration 601 - Cost: 0.2798953587235796\n",
            "Iteration 701 - Cost: 0.2600507785062307\n",
            "Iteration 801 - Cost: 0.24294396229917983\n",
            "Iteration 901 - Cost: 0.2280035410504074\n",
            "Iteration 1001 - Cost: 0.2148159700690285\n",
            "Iteration 1101 - Cost: 0.20307263065942507\n",
            "Iteration 1201 - Cost: 0.19253734679265141\n",
            "Iteration 1301 - Cost: 0.18302552540337033\n",
            "Iteration 1401 - Cost: 0.17439026496110832\n",
            "Iteration 1501 - Cost: 0.1665128209607002\n",
            "Iteration 1601 - Cost: 0.15929589257613744\n",
            "Iteration 1701 - Cost: 0.15265879055710246\n",
            "Iteration 1801 - Cost: 0.146533891303757\n",
            "Iteration 1901 - Cost: 0.140863989382991\n",
            "train accuracy: 99.04306220095694 %\n",
            "test accuracy: 70.0 %\n",
            "{'dw': array([[-0.00037858],\n",
            "       [ 0.00126733],\n",
            "       [ 0.000577  ],\n",
            "       ...,\n",
            "       [ 0.0004089 ],\n",
            "       [ 0.00106579],\n",
            "       [-0.00136122]]), 'db': array([[-0.0001579]])}\n"
          ],
          "name": "stdout"
        }
      ]
    },
    {
      "cell_type": "code",
      "metadata": {
        "colab": {
          "base_uri": "https://localhost:8080/",
          "height": 294
        },
        "id": "NBiQHHHvEYLT",
        "outputId": "099577e5-f6bd-4f8d-cee0-aed15f72e2d7"
      },
      "source": [
        "# Plot learning curve (with costs)\r\n",
        "costs = np.squeeze(res['costs'])\r\n",
        "plt.plot(costs)\r\n",
        "plt.ylabel('cost')\r\n",
        "plt.xlabel('iterations (per hundreds)')\r\n",
        "plt.title(\"Learning rate =\" + str(res[\"learning_rate\"]))\r\n",
        "plt.show()"
      ],
      "execution_count": 164,
      "outputs": [
        {
          "output_type": "display_data",
          "data": {
            "image/png": "[encoded data removed]",
            "text/plain": [
              "<Figure size 432x288 with 1 Axes>"
            ]
          },
          "metadata": {
            "tags": [],
            "needs_background": "light"
          }
        }
      ]
    }
  ]
}